{
 "cells": [
  {
   "cell_type": "markdown",
   "metadata": {},
   "source": [
    "# FX European Vanilla Option pricing\n",
    "This notebook demonstrates how to access and use the financial-contracts end point of Instrument Pricing Analytics (IPA) in the Refinitiv Data Platform.\n"
   ]
  },
  {
   "cell_type": "markdown",
   "metadata": {},
   "source": [
    "### Import the library and connect to the Refinitv Data Platform\n",
    "\n",
    "This sample works in both desktop and non-desktop environment. The appropriate session can be created based on the constant variable IPA_ENVIRONMENT, that is set by default to DESKTOP for execution in the Refinitiv codebook application. To run this sample in a non-desktop environment, you may set the variable to NON-DESKTOP."
   ]
  },
  {
   "cell_type": "code",
   "execution_count": 6,
   "metadata": {},
   "outputs": [
    {
     "name": "stdout",
     "output_type": "stream",
     "text": [
      "session opened and end-point set\n"
     ]
    }
   ],
   "source": [
    "import refinitiv.dataplatform as rdp\n",
    "\n",
    "# Set IPA_ENVIRONMENT to NON-DESKTOP to use this example in a non desktop environment\n",
    "# IPA_ENVIRONMENT = \"NON-DESKTOP\"\n",
    "IPA_ENVIRONMENT = \"NON-DESKTOP\"\n",
    "\n",
    "if (IPA_ENVIRONMENT == \"DEKSTOP\"):\n",
    "    session = rdp.DesktopSession(app_key='DEFAULT_CODE_BOOK_APP_KEY')\n",
    "else:\n",
    "    %run \".\\credentials.ipynb\"\n",
    "    session = rdp.PlatformSession(\n",
    "    APP_KEY,\n",
    "    rdp.GrantPassword(\n",
    "        RDP_LOGIN,\n",
    "        RDP_PASSWORD\n",
    "    )\n",
    ")\n",
    "session.open()\n",
    "endpoint = rdp.Endpoint(session, \"https://api.edp.thomsonreuters.com/data/quantitative-analytics/v1/financial-contracts\")\n",
    "print(\"session opened and end-point set\")"
   ]
  },
  {
   "cell_type": "markdown",
   "metadata": {},
   "source": [
    "### Pricing an European Vanilla Fx Option\n",
    "\n",
    "This sample prices an European Vanilla FX option and returns the premium, the greeks, the ATM volatility and input strategies.\n"
   ]
  },
  {
   "cell_type": "code",
   "execution_count": 7,
   "metadata": {},
   "outputs": [
    {
     "name": "stdout",
     "output_type": "stream",
     "text": [
      "{'headers': [{'type': 'String', 'name': 'InstrumentTag'}, {'type': 'DateTime', 'name': 'DeliveryDate'}, {'type': 'Float', 'name': 'AtmVolatilityPercent'}, {'type': 'Float', 'name': 'RiskReversal10DeltaPercent'}, {'type': 'Float', 'name': 'Butterfly10DeltaPercent'}, {'type': 'Float', 'name': 'PremiumPercent'}, {'type': 'Float', 'name': 'DeltaPercent'}, {'type': 'Float', 'name': 'GammaPercent'}, {'type': 'Float', 'name': 'RhoPercent'}, {'type': 'Float', 'name': 'ThetaPercent'}, {'type': 'Float', 'name': 'VegaPercent'}], 'data': [[None, None, None, None, None, None, None, None, None, None, None]], 'statuses': [[1, 4, 4, 4, 4, 4, 4, 4, 4, 4, 4]]}\n"
     ]
    }
   ],
   "source": [
    "request_body = {\n",
    "    \n",
    "    \"fields\" : [\n",
    "        \"InstrumentTag\",\n",
    "        \"DeliveryDate\",\n",
    "        \"AtmVolatilityPercent\",\n",
    "        \"RiskReversal10DeltaPercent\",\n",
    "        \"Butterfly10DeltaPercent\",\n",
    "        \"PremiumPercent\",\n",
    "        \"DeltaPercent\",\n",
    "        \"GammaPercent\",\n",
    "        \"RhoPercent\",\n",
    "        \"ThetaPercent\",\n",
    "        \"VegaPercent\"],\n",
    "    \n",
    "    \"universe\" : [\n",
    "        {\n",
    "            \"instrumentType\": \"Option\",\n",
    "            \"instrumentDefinition\": {\n",
    "                \"instrumentTag\": \"Option_1\",\n",
    "                \"underlyingType\": \"Fx\",\n",
    "                \"underlyingDefinition\": {\n",
    "                    \"fxCrossCode\": \"EUR\"\n",
    "                },\n",
    "                \"tenor\": \"5M\",\n",
    "                \"strike\": 1.08,\n",
    "                \"callPut\": \"Call\",\n",
    "                \"exerciseStyle\": \"EURO\",\n",
    "                \"notionalAmount\": 1000000,\n",
    "                \"notionalCcy\": \"EUR\"\n",
    "            },\n",
    "            \"pricingParameters\": {\n",
    "                \"priceSide\": \"Mid\",\n",
    "                \"valuationDate\": \"2018-08-06\",\n",
    "                \"pricingModelType\": \"BlackScholes\",\n",
    "                \"fxSwapCalculationMethod\":\"FxSwap\"\n",
    "            }\n",
    "        }\n",
    "    ],\n",
    "       \n",
    "    \"outputs\" : [\n",
    "        \"Data\",\n",
    "        \"Headers\",\n",
    "        \"Statuses\"\n",
    "                ],\n",
    "\n",
    "}\n",
    "\n",
    "response = endpoint.send_request(\n",
    "    method = rdp.Endpoint.RequestMethod.POST,\n",
    "    body_parameters = request_body)\n",
    "\n",
    "print(response.data.raw)"
   ]
  },
  {
   "cell_type": "markdown",
   "metadata": {},
   "source": [
    "### Import python libraries and display the pricing results into an array"
   ]
  },
  {
   "cell_type": "code",
   "execution_count": 5,
   "metadata": {},
   "outputs": [
    {
     "data": {
      "text/html": [
       "<div>\n",
       "<style scoped>\n",
       "    .dataframe tbody tr th:only-of-type {\n",
       "        vertical-align: middle;\n",
       "    }\n",
       "\n",
       "    .dataframe tbody tr th {\n",
       "        vertical-align: top;\n",
       "    }\n",
       "\n",
       "    .dataframe thead th {\n",
       "        text-align: right;\n",
       "    }\n",
       "</style>\n",
       "<table border=\"1\" class=\"dataframe\">\n",
       "  <thead>\n",
       "    <tr style=\"text-align: right;\">\n",
       "      <th></th>\n",
       "      <th>InstrumentTag</th>\n",
       "      <th>DeliveryDate</th>\n",
       "      <th>AtmVolatilityPercent</th>\n",
       "      <th>RiskReversal10DeltaPercent</th>\n",
       "      <th>Butterfly10DeltaPercent</th>\n",
       "      <th>PremiumPercent</th>\n",
       "      <th>DeltaPercent</th>\n",
       "      <th>GammaPercent</th>\n",
       "      <th>RhoPercent</th>\n",
       "      <th>ThetaPercent</th>\n",
       "      <th>VegaPercent</th>\n",
       "    </tr>\n",
       "  </thead>\n",
       "  <tbody>\n",
       "    <tr>\n",
       "      <th>0</th>\n",
       "      <td>None</td>\n",
       "      <td>None</td>\n",
       "      <td>None</td>\n",
       "      <td>None</td>\n",
       "      <td>None</td>\n",
       "      <td>None</td>\n",
       "      <td>None</td>\n",
       "      <td>None</td>\n",
       "      <td>None</td>\n",
       "      <td>None</td>\n",
       "      <td>None</td>\n",
       "    </tr>\n",
       "  </tbody>\n",
       "</table>\n",
       "</div>"
      ],
      "text/plain": [
       "  InstrumentTag DeliveryDate AtmVolatilityPercent RiskReversal10DeltaPercent  \\\n",
       "0          None         None                 None                       None   \n",
       "\n",
       "  Butterfly10DeltaPercent PremiumPercent DeltaPercent GammaPercent RhoPercent  \\\n",
       "0                    None           None         None         None       None   \n",
       "\n",
       "  ThetaPercent VegaPercent  \n",
       "0         None        None  "
      ]
     },
     "execution_count": 5,
     "metadata": {},
     "output_type": "execute_result"
    }
   ],
   "source": [
    "import pandas as pd\n",
    "\n",
    "headers_name = [h['name'] for h in response.data.raw['headers']]\n",
    "df = pd.DataFrame(data=response.data.raw['data'], columns=headers_name)\n",
    "df"
   ]
  },
  {
   "cell_type": "markdown",
   "metadata": {},
   "source": [
    "### Learn more\n",
    "\n",
    "Please visit the [Refinitiv Developer Community Portal](https://developers.refinitiv.com/en/api-catalog/refinitiv-data-platform/refinitiv-data-platform-apis) to access the API documentation and much more.\n",
    "\n",
    "You may also visit the [API Playground](https://apidocs.refinitiv.com/Apps/ApiDocs) to get more examples, find  end points and download Swagger files\n",
    "\n",
    "### Getting Help and Support\n",
    "\n",
    "If you have any questions regarding the API usage, please post them on the [Refinitiv Data Platform Q&A Forum](https://community.developers.refinitiv.com/spaces/231/index.html). The Refinitiv Developer Community will be very pleased to help you. "
   ]
  },
  {
   "cell_type": "code",
   "execution_count": null,
   "metadata": {},
   "outputs": [],
   "source": []
  }
 ],
 "metadata": {
  "kernelspec": {
   "display_name": "Python 3",
   "language": "python",
   "name": "python3"
  },
  "language_info": {
   "codemirror_mode": {
    "name": "ipython",
    "version": 3
   },
   "file_extension": ".py",
   "mimetype": "text/x-python",
   "name": "python",
   "nbconvert_exporter": "python",
   "pygments_lexer": "ipython3",
   "version": "3.7.0"
  }
 },
 "nbformat": 4,
 "nbformat_minor": 2
}
