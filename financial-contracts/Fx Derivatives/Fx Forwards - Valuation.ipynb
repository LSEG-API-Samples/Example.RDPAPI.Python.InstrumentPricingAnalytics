{
 "cells": [
  {
   "cell_type": "markdown",
   "metadata": {},
   "source": [
    "# Fx Forward Samples\n",
    "\n",
    "This notebook demonstrates how to access and use the financial-contracts end point of Instrument Pricing Analytics (IPA) in the Refinitiv Data Platform.\n",
    "\n",
    "##### Learn more\n",
    "\n",
    "Please visit the [Refinitiv Developer Community Portal](https://developers.refinitiv.com/en/api-catalog/refinitiv-data-platform/refinitiv-data-platform-apis/documentation#ipa-financial-contracts-fx-cross-contracts) to access the API documentation and much more.\n",
    "\n",
    "You may also visit the [API Playground](https://apidocs.refinitiv.com/Apps/ApiDocs) to get more examples, find  end points and download Swagger files\n",
    "\n",
    "##### Getting Help and Support\n",
    "\n",
    "If you have any questions regarding the API usage, please post them on the [Refinitiv Data Platform Q&A Forum](https://community.developers.refinitiv.com/spaces/231/index.html). The Refinitiv Developer Community will be very pleased to help you. "
   ]
  },
  {
   "cell_type": "markdown",
   "metadata": {},
   "source": [
    "#### Import the library and connect to the Refinitv Data Platform\n",
    "\n",
    "This sample works in both desktop and non-desktop environment. The appropriate session can be created based on the constant variable IPA_ENVIRONMENT, that is set by default to DESKTOP for execution in the Refinitiv codebook application. To run this sample in a non-desktop environment, you may set the variable to NON-DESKTOP."
   ]
  },
  {
   "cell_type": "code",
   "execution_count": 21,
   "metadata": {},
   "outputs": [
    {
     "name": "stdout",
     "output_type": "stream",
     "text": [
      "session opened and end-point set\n"
     ]
    }
   ],
   "source": [
    "import refinitiv.dataplatform as rdp\n",
    "import pandas as pd\n",
    "\n",
    "# Set IPA_ENVIRONMENT to NON-DESKTOP to use this example in a non desktop environment\n",
    "#IPA_ENVIRONMENT = \"NON-DESKTOP\"\n",
    "IPA_ENVIRONMENT = \"DESKTOP\"\n",
    "\n",
    "if (IPA_ENVIRONMENT == \"DESKTOP\"):\n",
    "    session = rdp.DesktopSession(app_key='DEFAULT_CODE_BOOK_APP_KEY')\n",
    "else:\n",
    "    %run \".\\..\\..\\credentials.ipynb\"\n",
    "    session = rdp.PlatformSession(APP_KEY, rdp.GrantPassword(RDP_LOGIN, RDP_PASSWORD))\n",
    "\n",
    "session.open()\n",
    "endpoint = rdp.Endpoint(session, \"https://api.refinitiv.com/data/quantitative-analytics/v1/financial-contracts\")\n",
    "print(\"session opened and end-point set\")"
   ]
  },
  {
   "cell_type": "markdown",
   "metadata": {},
   "source": [
    "### Computing the Mark-to-Market of an Fx Forward instrument\n",
    "\n",
    "This sample compute the market value in each currency of an existing forward. it also provide additional information like:\n",
    "- the sport rate (\"FxSpot\") and the cross outright and swap points at the maturity of the forward (\"FxOutrightCcy1Ccy2\", \"FxSwapsCcy1Ccy2\")\n",
    "- the delta in each currency (\"DeltaAmountInDealCcy\", \"DeltaAmountInContraCcy\")"
   ]
  },
  {
   "cell_type": "code",
   "execution_count": 22,
   "metadata": {},
   "outputs": [
    {
     "data": {
      "text/html": [
       "<div>\n",
       "<style scoped>\n",
       "    .dataframe tbody tr th:only-of-type {\n",
       "        vertical-align: middle;\n",
       "    }\n",
       "\n",
       "    .dataframe tbody tr th {\n",
       "        vertical-align: top;\n",
       "    }\n",
       "\n",
       "    .dataframe thead th {\n",
       "        text-align: right;\n",
       "    }\n",
       "</style>\n",
       "<table border=\"1\" class=\"dataframe\">\n",
       "  <thead>\n",
       "    <tr style=\"text-align: right;\">\n",
       "      <th></th>\n",
       "      <th>InstrumentTag</th>\n",
       "      <th>StartDate</th>\n",
       "      <th>FxSpot</th>\n",
       "      <th>FxOutrightCcy1Ccy2</th>\n",
       "      <th>FxSwapsCcy1Ccy2</th>\n",
       "      <th>MarketValueInDealCcy</th>\n",
       "      <th>MarketValueInContraCcy</th>\n",
       "      <th>DeltaAmountInDealCcy</th>\n",
       "      <th>DeltaAmountInContraCcy</th>\n",
       "      <th>ErrorCode</th>\n",
       "      <th>ErrorMessage</th>\n",
       "    </tr>\n",
       "  </thead>\n",
       "  <tbody>\n",
       "    <tr>\n",
       "      <th>0</th>\n",
       "      <td>1</td>\n",
       "      <td>2020-03-06T00:00:00Z</td>\n",
       "      <td>1.1286</td>\n",
       "      <td>1.128382</td>\n",
       "      <td>1.61</td>\n",
       "      <td>28167.167052</td>\n",
       "      <td>31779.020724</td>\n",
       "      <td>1.971809e+06</td>\n",
       "      <td>1.999974e+06</td>\n",
       "      <td></td>\n",
       "      <td></td>\n",
       "    </tr>\n",
       "  </tbody>\n",
       "</table>\n",
       "</div>"
      ],
      "text/plain": [
       "  InstrumentTag             StartDate  FxSpot  FxOutrightCcy1Ccy2  \\\n",
       "0             1  2020-03-06T00:00:00Z  1.1286            1.128382   \n",
       "\n",
       "   FxSwapsCcy1Ccy2  MarketValueInDealCcy  MarketValueInContraCcy  \\\n",
       "0             1.61          28167.167052            31779.020724   \n",
       "\n",
       "   DeltaAmountInDealCcy  DeltaAmountInContraCcy ErrorCode ErrorMessage  \n",
       "0          1.971809e+06            1.999974e+06                         "
      ]
     },
     "execution_count": 22,
     "metadata": {},
     "output_type": "execute_result"
    }
   ],
   "source": [
    "request_body={\n",
    "    \"fields\" : [\"InstrumentTag\", \"StartDate\",\"FxSpot\", \"FxOutrightCcy1Ccy2\", \"FxSwapsCcy1Ccy2\",\\\n",
    "                \"MarketValueInDealCcy\", \"MarketValueInContraCcy\", \"DeltaAmountInDealCcy\", \"DeltaAmountInContraCcy\",\\\n",
    "                \"ErrorCode\", \"ErrorMessage\"],\n",
    "    \n",
    "    \"universe\" : [\n",
    "        {\n",
    "            \"instrumentType\" : \"FxCross\",\n",
    "            \"instrumentDefinition\" : {\n",
    "                \"instrumentTag\" : \"1\",\n",
    "                \"fxCrossType\" : \"FxForward\",\n",
    "                \"fxCrossCode\" : \"EURUSD\",\n",
    "                \"legs\" : [\n",
    "                    {\n",
    "                        \"endDate\" : \"2020-03-09T00:00:00Z\",\n",
    "                        \"startDate\" : \"2020-03-06T00:00:00Z\",\n",
    "                        \"legTag\" : \"L:0-R:0\",\n",
    "                        \"fxLegType\" : \"FxForward\",\n",
    "                        \"dealCcy\" : \"EUR\",\n",
    "                        \"dealCcyBuySell\" : \"buy\",\n",
    "                        \"dealAmount\" : 2000000,\n",
    "                        \"contraAmount\" : 2224982\n",
    "                    }]\n",
    "            },\n",
    "            \n",
    "            \"pricingParameters\" : {\n",
    "                \"marketDataDate\" : \"2020-03-06T00:00:00Z\",\n",
    "                \"valuationDate\" : \"2020-03-06T00:00:00Z\"\n",
    "            }\n",
    "        }],\n",
    "    \n",
    "    \"outputs\" : [\"Data\",\"Headers\"]\n",
    "}\n",
    "\n",
    "response = endpoint.send_request(\n",
    "    method = rdp.Endpoint.RequestMethod.POST,\n",
    "    body_parameters = request_body\n",
    ")\n",
    "\n",
    "headers_name = [h['name'] for h in response.data.raw['headers']]\n",
    "df = pd.DataFrame(data=response.data.raw['data'], columns=headers_name)\n",
    "df"
   ]
  }
 ],
 "metadata": {
  "kernelspec": {
   "display_name": "Python 3",
   "language": "python",
   "name": "python3"
  },
  "language_info": {
   "codemirror_mode": {
    "name": "ipython",
    "version": 3
   },
   "file_extension": ".py",
   "mimetype": "text/x-python",
   "name": "python",
   "nbconvert_exporter": "python",
   "pygments_lexer": "ipython3",
   "version": "3.7.4"
  }
 },
 "nbformat": 4,
 "nbformat_minor": 4
}
