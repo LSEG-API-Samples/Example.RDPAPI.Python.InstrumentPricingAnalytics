{
 "cells": [
  {
   "cell_type": "markdown",
   "metadata": {},
   "source": [
    "# Fx Forward Samples\n",
    "\n",
    "This notebook demonstrates how to access and use the financial-contracts end point of Instrument Pricing Analytics (IPA) in the Refinitiv Data Platform.\n",
    "\n",
    "##### Learn more\n",
    "\n",
    "Please visit the [Refinitiv Developer Community Portal](https://developers.refinitiv.com/en/api-catalog/refinitiv-data-platform/refinitiv-data-platform-apis/documentation#ipa-financial-contracts-fx-cross-contracts) to access the API documentation and much more.\n",
    "\n",
    "You may also visit the [API Playground](https://apidocs.refinitiv.com/Apps/ApiDocs) to get more examples, find  end points and download Swagger files\n",
    "\n",
    "##### Getting Help and Support\n",
    "\n",
    "If you have any questions regarding the API usage, please post them on the [Refinitiv Data Platform Q&A Forum](https://community.developers.refinitiv.com/spaces/231/index.html). The Refinitiv Developer Community will be very pleased to help you. "
   ]
  },
  {
   "cell_type": "markdown",
   "metadata": {},
   "source": [
    "#### Import the library and connect to the Refinitv Data Platform\n",
    "\n",
    "This sample works in both desktop and non-desktop environment. The appropriate session can be created based on the constant variable IPA_ENVIRONMENT, that is set by default to DESKTOP for execution in the Refinitiv codebook application. To run this sample in a non-desktop environment, you may set the variable to NON-DESKTOP."
   ]
  },
  {
   "cell_type": "code",
   "execution_count": 6,
   "metadata": {},
   "outputs": [
    {
     "name": "stdout",
     "output_type": "stream",
     "text": [
      "session opened and end-point set\n"
     ]
    }
   ],
   "source": [
    "import refinitiv.dataplatform as rdp\n",
    "import pandas as pd\n",
    "\n",
    "# Set IPA_ENVIRONMENT to NON-DESKTOP to use this example in a non desktop environment\n",
    "#IPA_ENVIRONMENT = \"NON-DESKTOP\"\n",
    "IPA_ENVIRONMENT = \"DESKTOP\"\n",
    "\n",
    "if (IPA_ENVIRONMENT == \"DESKTOP\"):\n",
    "    session = rdp.DesktopSession(app_key='DEFAULT_CODE_BOOK_APP_KEY')\n",
    "else:\n",
    "    %run \".\\..\\..\\credentials.ipynb\"\n",
    "    session = rdp.PlatformSession(APP_KEY, rdp.GrantPassword(RDP_LOGIN, RDP_PASSWORD))\n",
    "\n",
    "session.open()\n",
    "endpoint = rdp.Endpoint(session, \"https://api.refinitiv.com/data/quantitative-analytics/v1/financial-contracts\")\n",
    "print(\"session opened and end-point set\")"
   ]
  },
  {
   "cell_type": "markdown",
   "metadata": {},
   "source": [
    "### Pricing use case\n",
    "\n",
    "This sample computes a cross forward at a specific broken date and returns the intermediary information used to derive the value :\n",
    "- the interpolated forward for each currency ('FxSwapsCcy1', 'FxSwapsCcy2')\n",
    "- the cross spot rate ('FxSpot')\n",
    "- the cross forward rate ('FxSwapsCcy1Ccy2')\n",
    "- the cross outright rate ('FxOutrightCcy1Ccy2')\n",
    "\n",
    "it also provides information such as athe scaling factor used for the swap points ('FxSwapPointScalingFactor') and the spot rate ('FxCrossScalingFactor') or the actual start date ('StartDate') and end date ('EndDate') of the contract.\n",
    "\n"
   ]
  },
  {
   "cell_type": "code",
   "execution_count": 5,
   "metadata": {},
   "outputs": [
    {
     "data": {
      "text/html": [
       "<div>\n",
       "<style scoped>\n",
       "    .dataframe tbody tr th:only-of-type {\n",
       "        vertical-align: middle;\n",
       "    }\n",
       "\n",
       "    .dataframe tbody tr th {\n",
       "        vertical-align: top;\n",
       "    }\n",
       "\n",
       "    .dataframe thead th {\n",
       "        text-align: right;\n",
       "    }\n",
       "</style>\n",
       "<table border=\"1\" class=\"dataframe\">\n",
       "  <thead>\n",
       "    <tr style=\"text-align: right;\">\n",
       "      <th></th>\n",
       "      <th>InstrumentDescription</th>\n",
       "      <th>FxCrossScalingFactor</th>\n",
       "      <th>FxSwapPointScalingFactor</th>\n",
       "      <th>ValuationDate</th>\n",
       "      <th>StartDate</th>\n",
       "      <th>EndDate</th>\n",
       "      <th>Tenor</th>\n",
       "      <th>FxSpot</th>\n",
       "      <th>FxSwapsCcy1</th>\n",
       "      <th>FxSwapsCcy2</th>\n",
       "      <th>FxSwapsCcy1Ccy2</th>\n",
       "      <th>FxOutrightCcy1Ccy2</th>\n",
       "      <th>ErrorCode</th>\n",
       "      <th>ErrorMessage</th>\n",
       "    </tr>\n",
       "  </thead>\n",
       "  <tbody>\n",
       "    <tr>\n",
       "      <th>0</th>\n",
       "      <td>FxForward KRWINR 2020-12-2</td>\n",
       "      <td>1.0</td>\n",
       "      <td>10000.0</td>\n",
       "      <td>2020-04-15T00:00:00Z</td>\n",
       "      <td>2020-04-17T00:00:00Z</td>\n",
       "      <td>2020-12-02T00:00:00Z</td>\n",
       "      <td>None</td>\n",
       "      <td>0.062521</td>\n",
       "      <td>-758.695652</td>\n",
       "      <td>204.3286</td>\n",
       "      <td>21.48954</td>\n",
       "      <td>0.06467</td>\n",
       "      <td></td>\n",
       "      <td></td>\n",
       "    </tr>\n",
       "  </tbody>\n",
       "</table>\n",
       "</div>"
      ],
      "text/plain": [
       "        InstrumentDescription  FxCrossScalingFactor  FxSwapPointScalingFactor  \\\n",
       "0  FxForward KRWINR 2020-12-2                   1.0                   10000.0   \n",
       "\n",
       "          ValuationDate             StartDate               EndDate Tenor  \\\n",
       "0  2020-04-15T00:00:00Z  2020-04-17T00:00:00Z  2020-12-02T00:00:00Z  None   \n",
       "\n",
       "     FxSpot  FxSwapsCcy1  FxSwapsCcy2  FxSwapsCcy1Ccy2  FxOutrightCcy1Ccy2  \\\n",
       "0  0.062521  -758.695652     204.3286         21.48954             0.06467   \n",
       "\n",
       "  ErrorCode ErrorMessage  \n",
       "0                         "
      ]
     },
     "execution_count": 5,
     "metadata": {},
     "output_type": "execute_result"
    }
   ],
   "source": [
    "request_body = {\n",
    "    \n",
    "    \"fields\":[\"InstrumentDescription\",\"FxCrossScalingFactor\",\"FxSwapPointScalingFactor\",\\\n",
    "            \"ValuationDate\",\"StartDate\",\"EndDate\",\"Tenor\",\\\n",
    "            \"FxSpot\",\"FxSwapsCcy1\",\"FxSwapsCcy2\",\"FxSwapsCcy1Ccy2\",\"FxOutrightCcy1Ccy2\",\\\n",
    "            \"ErrorCode\",\"ErrorMessage\"],\n",
    "    \n",
    "    \"universe\":[\n",
    "        {\n",
    "            \"instrumentType\" : \"FxCross\",\n",
    "            \"instrumentDefinition\" : {\n",
    "                \"instrumentTag\" : \"Fx-Forward\",\n",
    "                \"fxCrossType\" : \"FxForward\",\n",
    "                \"fxCrossCode\" : \"KRWINR\",\n",
    "                \"legs\" : [\n",
    "                    {\n",
    "                        \"endDate\" : \"2020-12-02\",\n",
    "                        #\"tenor\":\"1M\",\n",
    "                    }]\n",
    "\n",
    "            }\n",
    "        }\n",
    "    ],\n",
    "    \n",
    "    \"pricingParameters\":{\n",
    "        \"valuationDate\":\"2020-04-15\", #by default today is used\n",
    "        \"ignoreRefCcyHolidays\":False,\n",
    "        \"priceSide\":\"ask\"\n",
    "    },\n",
    "    \n",
    "    \"outputs\" : [\"Data\",\"Headers\"]\n",
    "   \n",
    "}\n",
    "\n",
    "response = endpoint.send_request(\n",
    "    method = rdp.Endpoint.RequestMethod.POST,\n",
    "    body_parameters = request_body\n",
    ")\n",
    "\n",
    "headers_name = [h['name'] for h in response.data.raw['headers']]\n",
    "df = pd.DataFrame(data=response.data.raw['data'], columns=headers_name)\n",
    "df"
   ]
  }
 ],
 "metadata": {
  "kernelspec": {
   "display_name": "Python 3",
   "language": "python",
   "name": "python3"
  },
  "language_info": {
   "codemirror_mode": {
    "name": "ipython",
    "version": 3
   },
   "file_extension": ".py",
   "mimetype": "text/x-python",
   "name": "python",
   "nbconvert_exporter": "python",
   "pygments_lexer": "ipython3",
   "version": "3.7.4"
  }
 },
 "nbformat": 4,
 "nbformat_minor": 4
}
