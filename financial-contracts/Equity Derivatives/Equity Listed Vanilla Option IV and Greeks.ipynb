{
 "cells": [
  {
   "cell_type": "markdown",
   "metadata": {},
   "source": [
    "# Equity Listed Vanilla Option Samples\n",
    "\n",
    "This notebook demonstrates how to access and use the financial-contracts end point of Instrument Pricing Analytics (IPA) in the Refinitiv Data Platform.\n",
    "\n",
    "##### Learn more\n",
    "\n",
    "Please visit the [Refinitiv Developer Community Portal](https://developers.refinitiv.com/en/api-catalog/refinitiv-data-platform/refinitiv-data-platform-apis/documentation#ipa-financial-contracts-option-contracts-eti) to access the API documentation and much more.\n",
    "\n",
    "You may also visit the [API Playground](https://apidocs.refinitiv.com/Apps/ApiDocs) to get more examples, find  end points and download Swagger files\n",
    "\n",
    "##### Getting Help and Support\n",
    "\n",
    "If you have any questions regarding the API usage, please post them on the [Refinitiv Data Platform Q&A Forum](https://community.developers.refinitiv.com/spaces/231/index.html). The Refinitiv Developer Community will be very pleased to help you. "
   ]
  },
  {
   "cell_type": "markdown",
   "metadata": {},
   "source": [
    "#### Import the library and connect to the Refinitv Data Platform\n",
    "\n",
    "This sample works in both desktop and non-desktop environment. The appropriate session can be created based on the constant variable IPA_ENVIRONMENT, that is set by default to DESKTOP for execution in the Refinitiv codebook application. To run this sample in a non-desktop environment, you may set the variable to NON-DESKTOP."
   ]
  },
  {
   "cell_type": "code",
   "execution_count": 1,
   "metadata": {},
   "outputs": [
    {
     "name": "stdout",
     "output_type": "stream",
     "text": [
      "session opened and end-point set\n"
     ]
    }
   ],
   "source": [
    "import refinitiv.dataplatform as rdp\n",
    "\n",
    "# Set IPA_ENVIRONMENT to NON-DESKTOP to use this example in a non desktop environment\n",
    "# IPA_ENVIRONMENT = \"NON-DESKTOP\"\n",
    "IPA_ENVIRONMENT = \"DESKTOP\"\n",
    "\n",
    "if (IPA_ENVIRONMENT == \"DEKSTOP\"):\n",
    "    session = rdp.DesktopSession(app_key='DEFAULT_CODE_BOOK_APP_KEY')\n",
    "else:\n",
    "    %run \".\\..\\..\\credentials.ipynb\"\n",
    "    session = rdp.PlatformSession(APP_KEY, rdp.GrantPassword(RDP_LOGIN, RDP_PASSWORD))\n",
    "\n",
    "session.open()\n",
    "endpoint = rdp.Endpoint(session, \"https://api.edp.thomsonreuters.com/data/quantitative-analytics/v1/financial-contracts\")\n",
    "print(\"session opened and end-point set\")"
   ]
  },
  {
   "cell_type": "markdown",
   "metadata": {},
   "source": [
    "### Computing the implied volatility and the greeks for a Listed Vanilla Option\n",
    "\n",
    "This sample compute the implied volatility and the main greeks for a listed options. 'AAPLF182113000.U' is used and may have to be changed to another listed option code when it has expired. The returned 'fields' are:\n",
    "- the option term & conditions\n",
    "    (InstrumentCode,ExerciseType,OptionType,ExerciseStyle,EndDate,StrikePrice)\n",
    "- the market value in cash (MarketValueInDealCcy)\n",
    "- the implied volatility (VolatilityPercent)\n",
    "- the main Greeks (DeltaPercent, GammaPercent, RhoPercent, ThetaPercent)\n",
    "- the error information (ErrorCode,ErrorMessage)\n",
    "\n",
    "the full documentation of the parameters available for equity options can be found in the [Developer Community Portal](https://developers.refinitiv.com/en/api-catalog/refinitiv-data-platform/refinitiv-data-platform-apis/documentation#ipa-financial-contracts-option-contracts-eti)\n"
   ]
  },
  {
   "cell_type": "code",
   "execution_count": 2,
   "metadata": {},
   "outputs": [
    {
     "name": "stdout",
     "output_type": "stream",
     "text": [
      "{'headers': [{'type': 'String', 'name': 'InstrumentCode'}, {'type': 'String', 'name': 'ExerciseType'}, {'type': 'String', 'name': 'OptionType'}, {'type': 'String', 'name': 'ExerciseStyle'}, {'type': 'DateTime', 'name': 'EndDate'}, {'type': 'Float', 'name': 'StrikePrice'}, {'type': 'Float', 'name': 'MarketValueInDealCcy'}, {'type': 'Float', 'name': 'VolatilityPercent'}, {'type': 'Float', 'name': 'DeltaPercent'}, {'type': 'Float', 'name': 'GammaPercent'}, {'type': 'Float', 'name': 'ThetaPercent'}, {'type': 'Float', 'name': 'ThetaPercent'}, {'type': 'String', 'name': 'ErrorMessage'}], 'data': [['AAPLF182113000.U', 'CALL', 'Vanilla', 'AMER', '2021-06-18T00:00:00Z', 130.0, 12.5, 39.1863136571643, 0.532472274987722, 0.0119754641554741, -0.0409053391267003, -0.0409053391267003, '']]}\n"
     ]
    }
   ],
   "source": [
    "request_body = {\n",
    "    \n",
    "    \"fields\": [\"InstrumentCode\",\"ExerciseType\",\"OptionType\",\"ExerciseStyle\",\"EndDate\",\"StrikePrice\",\n",
    "               \"MarketValueInDealCcy\",\"VolatilityPercent\",\n",
    "               \"DeltaPercent\",\"GammaPercent\",\"ThetaPercent\",\"ThetaPercent\",\n",
    "               \"ErrorMessage\"],\n",
    "    \n",
    "    \"universe\":[{\n",
    "        \"instrumentType\": \"Option\",\n",
    "        \"instrumentDefinition\": {\n",
    "            \"underlyingType\": \"Eti\",\n",
    "            \"instrumentCode\": \"AAPLF182113000.U\"\n",
    "        }\n",
    "    }],     \n",
    "    \n",
    "    \"pricingParameters\": {\n",
    "        \"valuationDate\": \"2021-01-12T00:00:00Z\",\n",
    "        \"VolatilityType\":\"Implied\"\n",
    "    },\n",
    "        \n",
    "    \"outputs\" : [\"Data\",\"Headers\"],\n",
    "\n",
    "}\n",
    "\n",
    "response = endpoint.send_request(\n",
    "    method = rdp.Endpoint.RequestMethod.POST,\n",
    "    body_parameters = request_body)\n",
    "\n",
    "print(response.data.raw)"
   ]
  },
  {
   "cell_type": "code",
   "execution_count": 3,
   "metadata": {},
   "outputs": [
    {
     "data": {
      "text/html": [
       "<div>\n",
       "<style scoped>\n",
       "    .dataframe tbody tr th:only-of-type {\n",
       "        vertical-align: middle;\n",
       "    }\n",
       "\n",
       "    .dataframe tbody tr th {\n",
       "        vertical-align: top;\n",
       "    }\n",
       "\n",
       "    .dataframe thead th {\n",
       "        text-align: right;\n",
       "    }\n",
       "</style>\n",
       "<table border=\"1\" class=\"dataframe\">\n",
       "  <thead>\n",
       "    <tr style=\"text-align: right;\">\n",
       "      <th></th>\n",
       "      <th>InstrumentCode</th>\n",
       "      <th>ExerciseType</th>\n",
       "      <th>OptionType</th>\n",
       "      <th>ExerciseStyle</th>\n",
       "      <th>EndDate</th>\n",
       "      <th>StrikePrice</th>\n",
       "      <th>MarketValueInDealCcy</th>\n",
       "      <th>VolatilityPercent</th>\n",
       "      <th>DeltaPercent</th>\n",
       "      <th>GammaPercent</th>\n",
       "      <th>ThetaPercent</th>\n",
       "      <th>ThetaPercent</th>\n",
       "      <th>ErrorMessage</th>\n",
       "    </tr>\n",
       "  </thead>\n",
       "  <tbody>\n",
       "    <tr>\n",
       "      <th>0</th>\n",
       "      <td>AAPLF182113000.U</td>\n",
       "      <td>CALL</td>\n",
       "      <td>Vanilla</td>\n",
       "      <td>AMER</td>\n",
       "      <td>2021-06-18T00:00:00Z</td>\n",
       "      <td>130.0</td>\n",
       "      <td>12.5</td>\n",
       "      <td>39.186314</td>\n",
       "      <td>0.532472</td>\n",
       "      <td>0.011975</td>\n",
       "      <td>-0.040905</td>\n",
       "      <td>-0.040905</td>\n",
       "      <td></td>\n",
       "    </tr>\n",
       "  </tbody>\n",
       "</table>\n",
       "</div>"
      ],
      "text/plain": [
       "     InstrumentCode ExerciseType OptionType ExerciseStyle  \\\n",
       "0  AAPLF182113000.U         CALL    Vanilla          AMER   \n",
       "\n",
       "                EndDate  StrikePrice  MarketValueInDealCcy  VolatilityPercent  \\\n",
       "0  2021-06-18T00:00:00Z        130.0                  12.5          39.186314   \n",
       "\n",
       "   DeltaPercent  GammaPercent  ThetaPercent  ThetaPercent ErrorMessage  \n",
       "0      0.532472      0.011975     -0.040905     -0.040905               "
      ]
     },
     "execution_count": 3,
     "metadata": {},
     "output_type": "execute_result"
    },
    {
     "name": "stdout",
     "output_type": "stream",
     "text": [
      "2021-01-19 09:51:11,452 - Session session.platform - Thread 4756 | MainThread\n",
      "[Error 400 - invalid_grant] empty error description\n"
     ]
    }
   ],
   "source": [
    "import pandas as pd\n",
    "\n",
    "headers_name = [h['name'] for h in response.data.raw['headers']]\n",
    "df = pd.DataFrame(data=response.data.raw['data'], columns=headers_name)\n",
    "df"
   ]
  }
 ],
 "metadata": {
  "kernelspec": {
   "display_name": "Python 3",
   "language": "python",
   "name": "python3"
  },
  "language_info": {
   "codemirror_mode": {
    "name": "ipython",
    "version": 3
   },
   "file_extension": ".py",
   "mimetype": "text/x-python",
   "name": "python",
   "nbconvert_exporter": "python",
   "pygments_lexer": "ipython3",
   "version": "3.7.4"
  }
 },
 "nbformat": 4,
 "nbformat_minor": 4
}
