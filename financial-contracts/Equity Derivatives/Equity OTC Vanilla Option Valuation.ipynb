{
 "cells": [
  {
   "cell_type": "markdown",
   "metadata": {},
   "source": [
    "# Equity OTC Vanilla Option Samples\n",
    "\n",
    "This notebook demonstrates how to access and use the financial-contracts end point of Instrument Pricing Analytics (IPA) in the Refinitiv Data Platform.\n",
    "\n",
    "##### Learn more\n",
    "\n",
    "Please visit the [Refinitiv Developer Community Portal](https://developers.refinitiv.com/en/api-catalog/refinitiv-data-platform/refinitiv-data-platform-apis/documentation#ipa-financial-contracts-option-contracts-eti) to access the API documentation and much more.\n",
    "\n",
    "You may also visit the [API Playground](https://apidocs.refinitiv.com/Apps/ApiDocs) to get more examples, find  end points and download Swagger files\n",
    "\n",
    "##### Getting Help and Support\n",
    "\n",
    "If you have any questions regarding the API usage, please post them on the [Refinitiv Data Platform Q&A Forum](https://community.developers.refinitiv.com/spaces/231/index.html). The Refinitiv Developer Community will be very pleased to help you. "
   ]
  },
  {
   "cell_type": "markdown",
   "metadata": {},
   "source": [
    "#### Import the library and connect to the Refinitv Data Platform\n",
    "\n",
    "This sample works in both desktop and non-desktop environment. The appropriate session can be created based on the constant variable IPA_ENVIRONMENT, that is set by default to DESKTOP for execution in the Refinitiv codebook application. To run this sample in a non-desktop environment, you may set the variable to NON-DESKTOP."
   ]
  },
  {
   "cell_type": "code",
   "execution_count": 6,
   "metadata": {},
   "outputs": [
    {
     "name": "stdout",
     "output_type": "stream",
     "text": [
      "session opened and end-point set\n"
     ]
    }
   ],
   "source": [
    "import refinitiv.dataplatform as rdp\n",
    "\n",
    "# Set IPA_ENVIRONMENT to NON-DESKTOP to use this example in a non desktop environment\n",
    "# IPA_ENVIRONMENT = \"NON-DESKTOP\"\n",
    "IPA_ENVIRONMENT = \"DESKTOP\"\n",
    "\n",
    "if (IPA_ENVIRONMENT == \"DESKTOP\"):\n",
    "    session = rdp.DesktopSession(app_key='DEFAULT_CODE_BOOK_APP_KEY')\n",
    "else:\n",
    "    %run \".\\..\\..\\credentials.ipynb\"\n",
    "    session = rdp.PlatformSession(APP_KEY, rdp.GrantPassword(RDP_LOGIN, RDP_PASSWORD))\n",
    "\n",
    "session.open()\n",
    "endpoint = rdp.Endpoint(session, \"https://api.edp.thomsonreuters.com/data/quantitative-analytics/v1/financial-contracts\")\n",
    "print(\"session opened and end-point set\")"
   ]
  },
  {
   "cell_type": "markdown",
   "metadata": {},
   "source": [
    "### Valuing an OTC Vanilla Option\n",
    "\n",
    "This sample value an existing vanilla option from the option definition provided in the request. The returned 'fields' are:\n",
    "- the market value in cash (MarketValueInDealCcy,)\n",
    "- the main Greeks (DeltaPercent, GammaPercent, RhoPercent)\n",
    "- the error information (ErrorCode,ErrorMessage)\n",
    "\n",
    "the full documentation of the parameters available for equity options can be found in the [Developer Community Portal](https://developers.refinitiv.com/en/api-catalog/refinitiv-data-platform/refinitiv-data-platform-apis/documentation#ipa-financial-contracts-option-contracts-eti)\n"
   ]
  },
  {
   "cell_type": "code",
   "execution_count": 7,
   "metadata": {},
   "outputs": [
    {
     "name": "stdout",
     "output_type": "stream",
     "text": [
      "{'headers': [{'type': 'String', 'name': 'InstrumentTag'}, {'type': 'Float', 'name': 'MarketValueInDealCcy'}, {'type': 'Float', 'name': 'DeltaPercent'}, {'type': 'Float', 'name': 'GammaPercent'}, {'type': 'Float', 'name': 'RhoPercent'}, {'type': 'String', 'name': 'ErrorCode'}, {'type': 'String', 'name': 'ErrorMessage'}], 'data': [[None, 2.37619451745243, 0.298203626538472, 0.0225075948452708, 0.0871646969628137, '', '']]}\n"
     ]
    }
   ],
   "source": [
    "request_body = {\n",
    "    \n",
    "    \"fields\" : [\"InstrumentTag\",\"MarketValueInDealCcy\", \"DeltaPercent\", \"GammaPercent\", \"RhoPercent\", \"ErrorCode\",\"ErrorMessage\"],\n",
    "    \n",
    "    \"universe\":[{\n",
    "        \"instrumentType\": \"Option\",\n",
    "        \"instrumentDefinition\": {\n",
    "            \"underlyingType\": \"Eti\",\n",
    "            \"strike\": 50,\n",
    "            \"endDate\": \"2022-01-15\",\n",
    "            \"callPut\": \"Call\",\n",
    "            \"underlyingDefinition\": {\n",
    "                \"instrumentCode\": \"RENA.PA\"\n",
    "            }\n",
    "        }\n",
    "    }],     \n",
    "    \n",
    "    \"pricingParameters\": {\n",
    "        \"valuationDate\": \"2021-01-12T00:00:00Z\",\n",
    "        \"volatilityType\":\"SVISurface\"\n",
    "    },\n",
    "        \n",
    "    \"outputs\" : [\"Data\",\"Headers\"],\n",
    "\n",
    "}\n",
    "\n",
    "response = endpoint.send_request(\n",
    "    method = rdp.Endpoint.RequestMethod.POST,\n",
    "    body_parameters = request_body)\n",
    "\n",
    "print(response.data.raw)"
   ]
  },
  {
   "cell_type": "code",
   "execution_count": 8,
   "metadata": {},
   "outputs": [
    {
     "data": {
      "text/html": [
       "<div>\n",
       "<style scoped>\n",
       "    .dataframe tbody tr th:only-of-type {\n",
       "        vertical-align: middle;\n",
       "    }\n",
       "\n",
       "    .dataframe tbody tr th {\n",
       "        vertical-align: top;\n",
       "    }\n",
       "\n",
       "    .dataframe thead th {\n",
       "        text-align: right;\n",
       "    }\n",
       "</style>\n",
       "<table border=\"1\" class=\"dataframe\">\n",
       "  <thead>\n",
       "    <tr style=\"text-align: right;\">\n",
       "      <th></th>\n",
       "      <th>InstrumentTag</th>\n",
       "      <th>MarketValueInDealCcy</th>\n",
       "      <th>DeltaPercent</th>\n",
       "      <th>GammaPercent</th>\n",
       "      <th>RhoPercent</th>\n",
       "      <th>ErrorCode</th>\n",
       "      <th>ErrorMessage</th>\n",
       "    </tr>\n",
       "  </thead>\n",
       "  <tbody>\n",
       "    <tr>\n",
       "      <th>0</th>\n",
       "      <td>None</td>\n",
       "      <td>2.376195</td>\n",
       "      <td>0.298204</td>\n",
       "      <td>0.022508</td>\n",
       "      <td>0.087165</td>\n",
       "      <td></td>\n",
       "      <td></td>\n",
       "    </tr>\n",
       "  </tbody>\n",
       "</table>\n",
       "</div>"
      ],
      "text/plain": [
       "  InstrumentTag  MarketValueInDealCcy  DeltaPercent  GammaPercent  RhoPercent  \\\n",
       "0          None              2.376195      0.298204      0.022508    0.087165   \n",
       "\n",
       "  ErrorCode ErrorMessage  \n",
       "0                         "
      ]
     },
     "execution_count": 8,
     "metadata": {},
     "output_type": "execute_result"
    },
    {
     "name": "stdout",
     "output_type": "stream",
     "text": [
      "2021-01-12 15:34:02,005 - Session session.platform - Thread 52528 | MainThread\n",
      "[Error 400 - invalid_grant] empty error description\n",
      "2021-01-12 15:34:02,005 - Session session.platform - Thread 52528 | MainThread\n",
      "[Error 400 - invalid_grant] empty error description\n",
      "2021-01-12 15:37:53,937 - Session session.platform - Thread 52528 | MainThread\n",
      "[Error 400 - invalid_grant] empty error description\n",
      "2021-01-12 15:37:53,937 - Session session.platform - Thread 52528 | MainThread\n",
      "[Error 400 - invalid_grant] empty error description\n"
     ]
    }
   ],
   "source": [
    "import pandas as pd\n",
    "\n",
    "headers_name = [h['name'] for h in response.data.raw['headers']]\n",
    "df = pd.DataFrame(data=response.data.raw['data'], columns=headers_name)\n",
    "df"
   ]
  }
 ],
 "metadata": {
  "kernelspec": {
   "display_name": "Python 3",
   "language": "python",
   "name": "python3"
  },
  "language_info": {
   "codemirror_mode": {
    "name": "ipython",
    "version": 3
   },
   "file_extension": ".py",
   "mimetype": "text/x-python",
   "name": "python",
   "nbconvert_exporter": "python",
   "pygments_lexer": "ipython3",
   "version": "3.7.4"
  }
 },
 "nbformat": 4,
 "nbformat_minor": 4
}
