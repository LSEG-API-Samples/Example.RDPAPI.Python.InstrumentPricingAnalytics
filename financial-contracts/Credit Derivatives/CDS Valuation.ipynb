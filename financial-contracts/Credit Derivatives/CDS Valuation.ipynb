{
 "cells": [
  {
   "cell_type": "markdown",
   "metadata": {},
   "source": [
    "# Listed CDS Samples\n",
    "\n",
    "This notebook demonstrates how to access and use the financial-contracts end point of Instrument Pricing Analytics (IPA) in the Refinitiv Data Platform.\n",
    "\n",
    "##### Learn more\n",
    "\n",
    "Please visit the [Refinitiv Developer Community Portal](https://developers.refinitiv.com/en/api-catalog/refinitiv-data-platform/refinitiv-data-platform-apis/documentation#ipa-financial-contracts-cds-contracts) to access the API documentation and much more.\n",
    "\n",
    "You may also visit the [API Playground](https://apidocs.refinitiv.com/Apps/ApiDocs) to get more examples, find  end points and download Swagger files\n",
    "\n",
    "##### Getting Help and Support\n",
    "\n",
    "If you have any questions regarding the API usage, please post them on the [Refinitiv Data Platform Q&A Forum](https://community.developers.refinitiv.com/spaces/231/index.html). The Refinitiv Developer Community will be very pleased to help you. "
   ]
  },
  {
   "cell_type": "markdown",
   "metadata": {},
   "source": [
    "#### Import the library and connect to the Refinitv Data Platform\n",
    "\n",
    "This sample works in both desktop and non-desktop environment. The appropriate session can be created based on the constant variable IPA_ENVIRONMENT, that is set by default to DESKTOP for execution in the Refinitiv codebook application. To run this sample in a non-desktop environment, you may set the variable to NON-DESKTOP."
   ]
  },
  {
   "cell_type": "code",
   "execution_count": 1,
   "metadata": {},
   "outputs": [
    {
     "name": "stdout",
     "output_type": "stream",
     "text": [
      "session opened and end-point set\n"
     ]
    }
   ],
   "source": [
    "import refinitiv.dataplatform as rdp\n",
    "\n",
    "# Set IPA_ENVIRONMENT to NON-DESKTOP to use this example in a non desktop environment\n",
    "# IPA_ENVIRONMENT = \"NON-DESKTOP\"\n",
    "IPA_ENVIRONMENT = \"DESKTOP\"\n",
    "\n",
    "if (IPA_ENVIRONMENT == \"DEKSTOP\"):\n",
    "    session = rdp.DesktopSession(app_key='DEFAULT_CODE_BOOK_APP_KEY')\n",
    "else:\n",
    "    %run \".\\..\\..\\credentials.ipynb\"\n",
    "    session = rdp.PlatformSession(APP_KEY, rdp.GrantPassword(RDP_LOGIN, RDP_PASSWORD))\n",
    "\n",
    "session.open()\n",
    "endpoint = rdp.Endpoint(session, \"https://api.edp.thomsonreuters.com/data/quantitative-analytics/v1/financial-contracts\")\n",
    "print(\"session opened and end-point set\")"
   ]
  },
  {
   "cell_type": "markdown",
   "metadata": {},
   "source": [
    "### retrieving proceeds and sensitivities for a Listed CDS\n",
    "\n",
    "This sample computes the following CDS analytics :\n",
    "- the option term & conditions (InstrumentDescription,EndDate,DealSpreadBp)\n",
    "- the proceeds (MarketValueInDealCcy,AccruedAmountInDealCcy,UpfrontAmountInDealCcy)\n",
    "- the main sensitivities (ConventionalSpreadBp,ParSpreadBp,CR01AmountInDealCcy, DV01AmountInDealCcy,RR01AmountInDealCcy,JumpToDefaultAmountInDealCcy)\n",
    "- the error information (ErrorCode,ErrorMessage)\n",
    "\n",
    "the full documentation of the parameters available for equity options can be found in the [Developer Community Portal](https://developers.refinitiv.com/en/api-catalog/refinitiv-data-platform/refinitiv-data-platform-apis/documentation#ipa-financial-contracts-cds-contracts)\n"
   ]
  },
  {
   "cell_type": "code",
   "execution_count": 2,
   "metadata": {},
   "outputs": [
    {
     "name": "stdout",
     "output_type": "stream",
     "text": [
      "{'headers': [{'type': 'String', 'name': 'InstrumentDescription'}, {'type': 'DateTime', 'name': 'EndDate'}, {'type': 'Float', 'name': 'DealSpreadBp'}, {'type': 'String', 'name': 'CreditCurveId'}, {'type': 'Float', 'name': 'MarketValueInDealCcy'}, {'type': 'Float', 'name': 'AccruedAmountInDealCcy'}, {'type': 'Float', 'name': 'UpfrontAmountInDealCcy'}, {'type': 'Float', 'name': 'ConventionalSpreadBp'}, {'type': 'Float', 'name': 'ParSpreadBp'}, {'type': 'Float', 'name': 'CR01AmountInDealCcy'}, {'type': 'Float', 'name': 'DV01AmountInDealCcy'}, {'type': 'Float', 'name': 'RR01AmountInDealCcy'}, {'type': 'Float', 'name': 'JumpToDefaultAmountInDealCcy'}, {'type': 'String', 'name': 'ErrorCode'}, {'type': 'String', 'name': 'ErrorMessage'}], 'data': [['FRANCE.USD.SNRFOR.CR', '2025-12-20T00:00:00Z', 100.0, 'CdsIssuerCurve0#FRGVUSACRBMK=2021-01-11T00:00:00', 41841.9299827525, 638.888888888889, -41203.1595873435, 16.3789, 16.556908305022, 510.120923565904, 10.5709936042549, 137.014991321666, 661203.159587344, '', '']]}\n"
     ]
    }
   ],
   "source": [
    "request_body = {\n",
    "    \n",
    "    \"fields\": [\"InstrumentDescription\",\"EndDate\",\"DealSpreadBp\",\"CreditCurveId\",\n",
    "               \"MarketValueInDealCcy\",\"AccruedAmountInDealCcy\",\"UpfrontAmountInDealCcy\",\n",
    "               \"ConventionalSpreadBp\",\"ParSpreadBp\",\"CR01AmountInDealCcy\",\"DV01AmountInDealCcy\",\"RR01AmountInDealCcy\",\"JumpToDefaultAmountInDealCcy\",\n",
    "               \"ErrorCode\",\"ErrorMessage\"],\n",
    "    \n",
    "    \"universe\":[{\n",
    "        \"instrumentType\": \"CDS\",\n",
    "        \"instrumentDefinition\": {\n",
    "            \"cdsConvention\":\"ISDA\",\n",
    "            \"instrumentCode\": \"FRGV5YUSAC=R\"\n",
    "        }\n",
    "    }],     \n",
    "    \n",
    "    \"pricingParameters\": {\n",
    "        \"valuationDate\": \"2021-01-12T00:00:00Z\"\n",
    "    },\n",
    "        \n",
    "    \"outputs\" : [\"Data\",\"Headers\"],\n",
    "}\n",
    "\n",
    "response = endpoint.send_request(\n",
    "    method = rdp.Endpoint.RequestMethod.POST,\n",
    "    body_parameters = request_body)\n",
    "\n",
    "print(response.data.raw)"
   ]
  },
  {
   "cell_type": "code",
   "execution_count": 3,
   "metadata": {},
   "outputs": [
    {
     "data": {
      "text/html": [
       "<div>\n",
       "<style scoped>\n",
       "    .dataframe tbody tr th:only-of-type {\n",
       "        vertical-align: middle;\n",
       "    }\n",
       "\n",
       "    .dataframe tbody tr th {\n",
       "        vertical-align: top;\n",
       "    }\n",
       "\n",
       "    .dataframe thead th {\n",
       "        text-align: right;\n",
       "    }\n",
       "</style>\n",
       "<table border=\"1\" class=\"dataframe\">\n",
       "  <thead>\n",
       "    <tr style=\"text-align: right;\">\n",
       "      <th></th>\n",
       "      <th>InstrumentDescription</th>\n",
       "      <th>EndDate</th>\n",
       "      <th>DealSpreadBp</th>\n",
       "      <th>CreditCurveId</th>\n",
       "      <th>MarketValueInDealCcy</th>\n",
       "      <th>AccruedAmountInDealCcy</th>\n",
       "      <th>UpfrontAmountInDealCcy</th>\n",
       "      <th>ConventionalSpreadBp</th>\n",
       "      <th>ParSpreadBp</th>\n",
       "      <th>CR01AmountInDealCcy</th>\n",
       "      <th>DV01AmountInDealCcy</th>\n",
       "      <th>RR01AmountInDealCcy</th>\n",
       "      <th>JumpToDefaultAmountInDealCcy</th>\n",
       "      <th>ErrorCode</th>\n",
       "      <th>ErrorMessage</th>\n",
       "    </tr>\n",
       "  </thead>\n",
       "  <tbody>\n",
       "    <tr>\n",
       "      <th>0</th>\n",
       "      <td>FRANCE.USD.SNRFOR.CR</td>\n",
       "      <td>2025-12-20T00:00:00Z</td>\n",
       "      <td>100.0</td>\n",
       "      <td>CdsIssuerCurve0#FRGVUSACRBMK=2021-01-11T00:00:00</td>\n",
       "      <td>41841.929983</td>\n",
       "      <td>638.888889</td>\n",
       "      <td>-41203.159587</td>\n",
       "      <td>16.3789</td>\n",
       "      <td>16.556908</td>\n",
       "      <td>510.120924</td>\n",
       "      <td>10.570994</td>\n",
       "      <td>137.014991</td>\n",
       "      <td>661203.159587</td>\n",
       "      <td></td>\n",
       "      <td></td>\n",
       "    </tr>\n",
       "  </tbody>\n",
       "</table>\n",
       "</div>"
      ],
      "text/plain": [
       "  InstrumentDescription               EndDate  DealSpreadBp  \\\n",
       "0  FRANCE.USD.SNRFOR.CR  2025-12-20T00:00:00Z         100.0   \n",
       "\n",
       "                                      CreditCurveId  MarketValueInDealCcy  \\\n",
       "0  CdsIssuerCurve0#FRGVUSACRBMK=2021-01-11T00:00:00          41841.929983   \n",
       "\n",
       "   AccruedAmountInDealCcy  UpfrontAmountInDealCcy  ConventionalSpreadBp  \\\n",
       "0              638.888889           -41203.159587               16.3789   \n",
       "\n",
       "   ParSpreadBp  CR01AmountInDealCcy  DV01AmountInDealCcy  RR01AmountInDealCcy  \\\n",
       "0    16.556908           510.120924            10.570994           137.014991   \n",
       "\n",
       "   JumpToDefaultAmountInDealCcy ErrorCode ErrorMessage  \n",
       "0                 661203.159587                         "
      ]
     },
     "execution_count": 3,
     "metadata": {},
     "output_type": "execute_result"
    }
   ],
   "source": [
    "import pandas as pd\n",
    "\n",
    "headers_name = [h['name'] for h in response.data.raw['headers']]\n",
    "df = pd.DataFrame(data=response.data.raw['data'], columns=headers_name)\n",
    "df"
   ]
  }
 ],
 "metadata": {
  "kernelspec": {
   "display_name": "Python 3",
   "language": "python",
   "name": "python3"
  },
  "language_info": {
   "codemirror_mode": {
    "name": "ipython",
    "version": 3
   },
   "file_extension": ".py",
   "mimetype": "text/x-python",
   "name": "python",
   "nbconvert_exporter": "python",
   "pygments_lexer": "ipython3",
   "version": "3.7.4"
  }
 },
 "nbformat": 4,
 "nbformat_minor": 4
}
