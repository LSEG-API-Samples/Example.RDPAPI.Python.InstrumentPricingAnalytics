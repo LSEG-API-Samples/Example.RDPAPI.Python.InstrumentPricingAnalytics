{
 "cells": [
  {
   "cell_type": "markdown",
   "metadata": {},
   "source": [
    "# Bond Futures Samples\n",
    "\n",
    "This notebook demonstrates how to access and use the financial-contracts end point of Instrument Pricing Analytics (IPA) in the Refinitiv Data Platform.\n",
    "\n",
    "##### Learn more\n",
    "\n",
    "Please visit the [Refinitiv Developer Community Portal](https://developers.refinitiv.com/en/api-catalog/refinitiv-data-platform/refinitiv-data-platform-apis/documentation#ipa-financial-contracts-bond-future-contracts) to access the API documentation and much more.\n",
    "\n",
    "You may also visit the [API Playground](https://apidocs.refinitiv.com/Apps/ApiDocs) to get more examples, find  end points and download Swagger files\n",
    "\n",
    "##### Getting Help and Support\n",
    "\n",
    "If you have any questions regarding the API usage, please post them on the [Refinitiv Data Platform Q&A Forum](https://community.developers.refinitiv.com/spaces/231/index.html). The Refinitiv Developer Community will be very pleased to help you. "
   ]
  },
  {
   "cell_type": "markdown",
   "metadata": {},
   "source": [
    "#### Import the library and connect to the Refinitv Data Platform\n",
    "\n",
    "This sample works in both desktop and non-desktop environment. The appropriate session can be created based on the constant variable IPA_ENVIRONMENT, that is set by default to DESKTOP for execution in the Refinitiv codebook application. To run this sample in a non-desktop environment, you may set the variable to NON-DESKTOP."
   ]
  },
  {
   "cell_type": "code",
   "execution_count": 1,
   "metadata": {},
   "outputs": [
    {
     "name": "stdout",
     "output_type": "stream",
     "text": [
      "session opened and end-point set\n"
     ]
    }
   ],
   "source": [
    "import refinitiv.dataplatform as rdp\n",
    "import pandas as pd\n",
    "\n",
    "# Set IPA_ENVIRONMENT to NON-DESKTOP to use this example in a non desktop environment\n",
    "#IPA_ENVIRONMENT = \"NON-DESKTOP\"\n",
    "IPA_ENVIRONMENT = \"DESKTOP\"\n",
    "\n",
    "if (IPA_ENVIRONMENT == \"DESKTOP\"):\n",
    "    session = rdp.DesktopSession(app_key='DEFAULT_CODE_BOOK_APP_KEY')\n",
    "else:\n",
    "    %run \".\\..\\..\\credentials.ipynb\"\n",
    "    session = rdp.PlatformSession(APP_KEY, rdp.GrantPassword(RDP_LOGIN, RDP_PASSWORD))\n",
    "\n",
    "session.open()\n",
    "endpoint = rdp.Endpoint(session, \"https://api.refinitiv.com/data/quantitative-analytics/v1/financial-contracts\")\n",
    "print(\"session opened and end-point set\")"
   ]
  },
  {
   "cell_type": "markdown",
   "metadata": {},
   "source": [
    "### Computing Bond futures \n",
    "\n",
    "This sample provides the main future information and analytics. The 'fields' requested are:\n",
    "- the descriptive parameters of the bond future (InstrumentCode,InstrumentDescription, CouponRatePercent,EndDate)\n",
    "- The Cheapest to Deliver (CheapestToDeliver), its conversion factor (ConversionFactor), the invoice price (InvoicePrice), and the CTD yield implied from this invoice price (ImpliedYieldPercent)\n",
    "- the sensitivities of the bond future (ModifiedDuration, DV01Bp, Convexity)\n",
    "- the error information (ErrorCode, ErrorMessage)\n"
   ]
  },
  {
   "cell_type": "code",
   "execution_count": 3,
   "metadata": {},
   "outputs": [
    {
     "name": "stdout",
     "output_type": "stream",
     "text": [
      "{'headers': [{'type': 'String', 'name': 'InstrumentCode'}, {'type': 'String', 'name': 'InstrumentDescription'}, {'type': 'Float', 'name': 'CouponRatePercent'}, {'type': 'DateTime', 'name': 'EndDate'}, {'type': 'String', 'name': 'CheapestToDeliver'}, {'type': 'Float', 'name': 'ConversionFactor'}, {'type': 'Float', 'name': 'InvoicePrice'}, {'type': 'Float', 'name': 'ImpliedYieldPercent'}, {'type': 'Float', 'name': 'ModifiedDuration'}, {'type': 'Float', 'name': 'DV01Bp'}, {'type': 'Float', 'name': 'Convexity'}, {'type': 'String', 'name': 'ErrorCode'}, {'type': 'String', 'name': 'ErrorMessage'}], 'data': [['FOATc3', 'FOAT DEC1/d', 6.0, '2021-12-08T00:00:00Z', 'FR0012993103=', 0.682206, 108.7777467, 0.544854375903666, 8.30580700500276, 13.2436099231859, 85.1351768428435, '', '']]}\n"
     ]
    },
    {
     "data": {
      "text/html": [
       "<div>\n",
       "<style scoped>\n",
       "    .dataframe tbody tr th:only-of-type {\n",
       "        vertical-align: middle;\n",
       "    }\n",
       "\n",
       "    .dataframe tbody tr th {\n",
       "        vertical-align: top;\n",
       "    }\n",
       "\n",
       "    .dataframe thead th {\n",
       "        text-align: right;\n",
       "    }\n",
       "</style>\n",
       "<table border=\"1\" class=\"dataframe\">\n",
       "  <thead>\n",
       "    <tr style=\"text-align: right;\">\n",
       "      <th></th>\n",
       "      <th>InstrumentCode</th>\n",
       "      <th>InstrumentDescription</th>\n",
       "      <th>CouponRatePercent</th>\n",
       "      <th>EndDate</th>\n",
       "      <th>CheapestToDeliver</th>\n",
       "      <th>ConversionFactor</th>\n",
       "      <th>InvoicePrice</th>\n",
       "      <th>ImpliedYieldPercent</th>\n",
       "      <th>ModifiedDuration</th>\n",
       "      <th>DV01Bp</th>\n",
       "      <th>Convexity</th>\n",
       "      <th>ErrorCode</th>\n",
       "      <th>ErrorMessage</th>\n",
       "    </tr>\n",
       "  </thead>\n",
       "  <tbody>\n",
       "    <tr>\n",
       "      <th>0</th>\n",
       "      <td>FOATc3</td>\n",
       "      <td>FOAT DEC1/d</td>\n",
       "      <td>6.0</td>\n",
       "      <td>2021-12-08T00:00:00Z</td>\n",
       "      <td>FR0012993103=</td>\n",
       "      <td>0.682206</td>\n",
       "      <td>108.777747</td>\n",
       "      <td>0.544854</td>\n",
       "      <td>8.305807</td>\n",
       "      <td>13.24361</td>\n",
       "      <td>85.135177</td>\n",
       "      <td></td>\n",
       "      <td></td>\n",
       "    </tr>\n",
       "  </tbody>\n",
       "</table>\n",
       "</div>"
      ],
      "text/plain": [
       "  InstrumentCode InstrumentDescription  CouponRatePercent  \\\n",
       "0         FOATc3           FOAT DEC1/d                6.0   \n",
       "\n",
       "                EndDate CheapestToDeliver  ConversionFactor  InvoicePrice  \\\n",
       "0  2021-12-08T00:00:00Z     FR0012993103=          0.682206    108.777747   \n",
       "\n",
       "   ImpliedYieldPercent  ModifiedDuration    DV01Bp  Convexity ErrorCode  \\\n",
       "0             0.544854          8.305807  13.24361  85.135177             \n",
       "\n",
       "  ErrorMessage  \n",
       "0               "
      ]
     },
     "execution_count": 3,
     "metadata": {},
     "output_type": "execute_result"
    }
   ],
   "source": [
    "request_body = {\n",
    "    \"fields\": [\"InstrumentCode\",\"InstrumentDescription\", \"CouponRatePercent\",\"EndDate\",\n",
    "               \"CheapestToDeliver\", \"ConversionFactor\", \"InvoicePrice\", \"ImpliedYieldPercent\",\n",
    "               \"ModifiedDuration\", \"DV01Bp\", \"Convexity\",\n",
    "               \"ErrorCode\", \"ErrorMessage\"],\n",
    "    \n",
    "    \"universe\": [\n",
    "        {\n",
    "            \"instrumentType\": \"BondFuture\",\n",
    "            \"instrumentDefinition\": {\n",
    "                \"instrumentCode\": \"FOATc3\"\n",
    "            }\n",
    "            \n",
    "        }\n",
    "    ],\n",
    "    \n",
    "    \"pricingParameters\": {\n",
    "    },\n",
    "\n",
    "    \"outputs\": [\"Headers\",\"Data\"]\n",
    "}\n",
    "\n",
    "response = endpoint.send_request(\n",
    "    method = rdp.Endpoint.RequestMethod.POST,\n",
    "    body_parameters = request_body)\n",
    "\n",
    "print(response.data.raw)\n",
    "\n",
    "headers_name = [h['name'] for h in response.data.raw['headers']]\n",
    "df = pd.DataFrame(data=response.data.raw['data'], columns=headers_name)\n",
    "df"
   ]
  }
 ],
 "metadata": {
  "kernelspec": {
   "display_name": "Python 3",
   "language": "python",
   "name": "python3"
  },
  "language_info": {
   "codemirror_mode": {
    "name": "ipython",
    "version": 3
   },
   "file_extension": ".py",
   "mimetype": "text/x-python",
   "name": "python",
   "nbconvert_exporter": "python",
   "pygments_lexer": "ipython3",
   "version": "3.7.4"
  }
 },
 "nbformat": 4,
 "nbformat_minor": 4
}
