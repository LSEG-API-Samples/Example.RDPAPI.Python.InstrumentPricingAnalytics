{
 "cells": [
  {
   "cell_type": "markdown",
   "metadata": {},
   "source": [
    "# Collateral Repo Samples\n",
    "\n",
    "This notebook demonstrates how to access and use the financial-contracts end point of Instrument Pricing Analytics (IPA) in the Refinitiv Data Platform.\n",
    "\n",
    "##### Learn more\n",
    "\n",
    "Please visit the [Refinitiv Developer Community Portal](https://developers.refinitiv.com/en/api-catalog/refinitiv-data-platform/refinitiv-data-platform-apis/documentation#ipa-financial-contracts-repo-contracts) to access the API documentation and much more.\n",
    "\n",
    "You may also visit the [API Playground](https://apidocs.refinitiv.com/Apps/ApiDocs) to get more examples, find  end points and download Swagger files\n",
    "\n",
    "##### Getting Help and Support\n",
    "\n",
    "If you have any questions regarding the API usage, please post them on the [Refinitiv Data Platform Q&A Forum](https://community.developers.refinitiv.com/spaces/231/index.html). The Refinitiv Developer Community will be very pleased to help you. "
   ]
  },
  {
   "cell_type": "markdown",
   "metadata": {},
   "source": [
    "#### Import the library and connect to the Refinitv Data Platform\n",
    "\n",
    "This sample works in both desktop and non-desktop environment. The appropriate session can be created based on the constant variable IPA_ENVIRONMENT, that is set by default to DESKTOP for execution in the Refinitiv codebook application. To run this sample in a non-desktop environment, you may set the variable to NON-DESKTOP."
   ]
  },
  {
   "cell_type": "code",
   "execution_count": 60,
   "metadata": {},
   "outputs": [
    {
     "name": "stdout",
     "output_type": "stream",
     "text": [
      "session opened and end-point set\n"
     ]
    }
   ],
   "source": [
    "import refinitiv.dataplatform as rdp\n",
    "import pandas as pd\n",
    "\n",
    "# Set IPA_ENVIRONMENT to NON-DESKTOP to use this example in a non desktop environment\n",
    "#IPA_ENVIRONMENT = \"NON-DESKTOP\"\n",
    "IPA_ENVIRONMENT = \"DESKTOP\"\n",
    "\n",
    "if (IPA_ENVIRONMENT == \"DESKTOP\"):\n",
    "    session = rdp.DesktopSession(app_key='DEFAULT_CODE_BOOK_APP_KEY')\n",
    "else:\n",
    "    %run \".\\..\\..\\credentials.ipynb\"\n",
    "    session = rdp.PlatformSession(APP_KEY, rdp.GrantPassword(RDP_LOGIN, RDP_PASSWORD))\n",
    "\n",
    "session.open()\n",
    "endpoint = rdp.Endpoint(session, \"https://api.refinitiv.com/data/quantitative-analytics/v1/financial-contracts\")\n",
    "print(\"session opened and end-point set\")"
   ]
  },
  {
   "cell_type": "markdown",
   "metadata": {},
   "source": [
    "### Repo interest & repurchase price\n",
    "\n",
    "This sample computes the repurchase price and the interest due for a collateral repo. In this example the repo:\n",
    "- repo starts on 2021-01-21\n",
    "- repo ends on 2021-01-22\n",
    "- interest paid is 3.03%\n",
    "- the daycouont basis is Dcb_Actual_360\n",
    "- the underlying bonds is a Indonesian government bonds (FR0077)\n",
    "- the bpnd notional is IDR300,000,000,000\n",
    "- the bond dirty price is 109.330619\n",
    "- a 10% haircut is applied\n",
    "\n",
    "in addition the the parameters above the following 'fields' are requested:\n",
    "- the InitialMarginPercent\n",
    "- the RepoInterestAmountInDealCcy\n",
    "- the RepurchasePrice that is computed from the purchase price and the repo interest\n",
    "- UnderlyingAtStartObject that represents the state at the beginning of the repo of the bond used as collateral\n",
    "- the error information (ErrorCode,ErrorMessage)\n"
   ]
  },
  {
   "cell_type": "code",
   "execution_count": 66,
   "metadata": {},
   "outputs": [
    {
     "data": {
      "text/html": [
       "<div>\n",
       "<style scoped>\n",
       "    .dataframe tbody tr th:only-of-type {\n",
       "        vertical-align: middle;\n",
       "    }\n",
       "\n",
       "    .dataframe tbody tr th {\n",
       "        vertical-align: top;\n",
       "    }\n",
       "\n",
       "    .dataframe thead th {\n",
       "        text-align: right;\n",
       "    }\n",
       "</style>\n",
       "<table border=\"1\" class=\"dataframe\">\n",
       "  <thead>\n",
       "    <tr style=\"text-align: right;\">\n",
       "      <th></th>\n",
       "      <th>InstrumentTag</th>\n",
       "      <th>StartDate</th>\n",
       "      <th>EndDate</th>\n",
       "      <th>SettlementConvention</th>\n",
       "      <th>DayCountBasisRepoRatePercent</th>\n",
       "      <th>HaircutRatePercent</th>\n",
       "      <th>InitialMarginPercent</th>\n",
       "      <th>PurchasePrice</th>\n",
       "      <th>RepurchasePrice</th>\n",
       "      <th>RepoInterestAmountInDealCcy</th>\n",
       "      <th>UnderlyingAtStartObject</th>\n",
       "      <th>ErrorCode</th>\n",
       "      <th>ErrorMessage</th>\n",
       "    </tr>\n",
       "  </thead>\n",
       "  <tbody>\n",
       "    <tr>\n",
       "      <th>0</th>\n",
       "      <td>None</td>\n",
       "      <td>2021-01-21T00:00:00Z</td>\n",
       "      <td>2021-01-22T00:00:00Z</td>\n",
       "      <td>2WD</td>\n",
       "      <td>None</td>\n",
       "      <td>10.0</td>\n",
       "      <td>111.111111</td>\n",
       "      <td>2.951927e+11</td>\n",
       "      <td>2.952175e+11</td>\n",
       "      <td>2.484538e+07</td>\n",
       "      <td>{'endDate': {'value': '2024-05-15T00:00:00Z', ...</td>\n",
       "      <td></td>\n",
       "      <td></td>\n",
       "    </tr>\n",
       "  </tbody>\n",
       "</table>\n",
       "</div>"
      ],
      "text/plain": [
       "  InstrumentTag             StartDate               EndDate  \\\n",
       "0          None  2021-01-21T00:00:00Z  2021-01-22T00:00:00Z   \n",
       "\n",
       "  SettlementConvention DayCountBasisRepoRatePercent  HaircutRatePercent  \\\n",
       "0                  2WD                         None                10.0   \n",
       "\n",
       "   InitialMarginPercent  PurchasePrice  RepurchasePrice  \\\n",
       "0            111.111111   2.951927e+11     2.952175e+11   \n",
       "\n",
       "   RepoInterestAmountInDealCcy  \\\n",
       "0                 2.484538e+07   \n",
       "\n",
       "                             UnderlyingAtStartObject ErrorCode ErrorMessage  \n",
       "0  {'endDate': {'value': '2024-05-15T00:00:00Z', ...                         "
      ]
     },
     "execution_count": 66,
     "metadata": {},
     "output_type": "execute_result"
    }
   ],
   "source": [
    "request_body = {\n",
    "    \n",
    "    \"fields\" : [\"InstrumentTag\",\"StartDate\",\"EndDate\",\n",
    "                \"SettlementConvention\",\"DayCountBasis\"\n",
    "                \"RepoRatePercent\",\"HaircutRatePercent\",\"InitialMarginPercent\",\n",
    "                \"PurchasePrice\",\"RepurchasePrice\",\"RepoInterestAmountInDealCcy\",\n",
    "                \"UnderlyingAtStartObject\",\"ErrorCode\",\"ErrorMessage\"],\n",
    "    \n",
    "    \"universe\" : [\n",
    "        {\n",
    "            \"instrumentType\":\"Repo\",\n",
    "            \"instrumentDefinition\": {\n",
    "                \"startDate\":\"2021-01-21\",\n",
    "                \"endDate\":\"2021-01-22\",\n",
    "                \"repoRatePercent\":3.03,\n",
    "                \"dayCountBasis\":\"Dcb_Actual_360\",\n",
    "                \"isCouponExchanged\":False,\n",
    "                \"underlyingInstruments\":[{\n",
    "                    \"instrumentType\": \"Bond\",\n",
    "                    \"instrumentDefinition\":{\n",
    "                        \"instrumentCode\":\"FR0077\",\n",
    "                        \"NotionalAmount\":300000000000,\n",
    "                    },\n",
    "                    \"pricingParameters\":{\n",
    "                        \"RepoParameters\":{\n",
    "                            \"haircutRatePercent\":10\n",
    "                        },\n",
    "                        \"PricingParametersAtStart\":\n",
    "                        {\n",
    "                            \"dirtyPrice\":109.330619\n",
    "                        }\n",
    "                    }\n",
    "                 }]\n",
    "             }\n",
    "        }],\n",
    "    \n",
    "    \"pricingParameters\": {\n",
    "        \"valuationDate\": \"2021-01-21\"\n",
    "    },\n",
    "        \n",
    "    \"outputs\" : [\"Data\",\"Headers\"],\n",
    "\n",
    "}\n",
    "\n",
    "response = endpoint.send_request(\n",
    "    method = rdp.Endpoint.RequestMethod.POST,\n",
    "    body_parameters = request_body)\n",
    "\n",
    "headers_name = [h['name'] for h in response.data.raw['headers']]\n",
    "df = pd.DataFrame(data=response.data.raw['data'], columns=headers_name)\n",
    "df"
   ]
  },
  {
   "cell_type": "markdown",
   "metadata": {},
   "source": [
    "### displaying the state of the bond posted as collateral at the start of the repo"
   ]
  },
  {
   "cell_type": "code",
   "execution_count": 65,
   "metadata": {},
   "outputs": [
    {
     "data": {
      "text/html": [
       "<div>\n",
       "<style scoped>\n",
       "    .dataframe tbody tr th:only-of-type {\n",
       "        vertical-align: middle;\n",
       "    }\n",
       "\n",
       "    .dataframe tbody tr th {\n",
       "        vertical-align: top;\n",
       "    }\n",
       "\n",
       "    .dataframe thead th {\n",
       "        text-align: right;\n",
       "    }\n",
       "</style>\n",
       "<table border=\"1\" class=\"dataframe\">\n",
       "  <thead>\n",
       "    <tr style=\"text-align: right;\">\n",
       "      <th></th>\n",
       "      <th>endDate</th>\n",
       "      <th>accrued</th>\n",
       "      <th>cleanPrice</th>\n",
       "      <th>dirtyPrice</th>\n",
       "      <th>notionalAmount</th>\n",
       "      <th>accruedDays</th>\n",
       "      <th>couponRatePercent</th>\n",
       "      <th>marketValueInDealCcy</th>\n",
       "      <th>yieldPercent</th>\n",
       "    </tr>\n",
       "  </thead>\n",
       "  <tbody>\n",
       "    <tr>\n",
       "      <th>value</th>\n",
       "      <td>2024-05-15T00:00:00Z</td>\n",
       "      <td>1.5038</td>\n",
       "      <td>107.827</td>\n",
       "      <td>109.331</td>\n",
       "      <td>3e+11</td>\n",
       "      <td>67</td>\n",
       "      <td>8.125</td>\n",
       "      <td>3.27992e+11</td>\n",
       "      <td>5.5054</td>\n",
       "    </tr>\n",
       "    <tr>\n",
       "      <th>status</th>\n",
       "      <td>Data</td>\n",
       "      <td>Computed</td>\n",
       "      <td>Computed</td>\n",
       "      <td>User</td>\n",
       "      <td>User</td>\n",
       "      <td>Computed</td>\n",
       "      <td>Data</td>\n",
       "      <td>Computed</td>\n",
       "      <td>Computed</td>\n",
       "    </tr>\n",
       "  </tbody>\n",
       "</table>\n",
       "</div>"
      ],
      "text/plain": [
       "                     endDate   accrued cleanPrice dirtyPrice notionalAmount  \\\n",
       "value   2024-05-15T00:00:00Z    1.5038    107.827    109.331          3e+11   \n",
       "status                  Data  Computed   Computed       User           User   \n",
       "\n",
       "       accruedDays couponRatePercent marketValueInDealCcy yieldPercent  \n",
       "value           67             8.125          3.27992e+11       5.5054  \n",
       "status    Computed              Data             Computed     Computed  "
      ]
     },
     "execution_count": 65,
     "metadata": {},
     "output_type": "execute_result"
    }
   ],
   "source": [
    "pd.DataFrame(df[\"UnderlyingAtStartObject\"][0])"
   ]
  },
  {
   "cell_type": "code",
   "execution_count": null,
   "metadata": {},
   "outputs": [],
   "source": []
  }
 ],
 "metadata": {
  "kernelspec": {
   "display_name": "Python 3",
   "language": "python",
   "name": "python3"
  },
  "language_info": {
   "codemirror_mode": {
    "name": "ipython",
    "version": 3
   },
   "file_extension": ".py",
   "mimetype": "text/x-python",
   "name": "python",
   "nbconvert_exporter": "python",
   "pygments_lexer": "ipython3",
   "version": "3.7.4"
  }
 },
 "nbformat": 4,
 "nbformat_minor": 4
}
