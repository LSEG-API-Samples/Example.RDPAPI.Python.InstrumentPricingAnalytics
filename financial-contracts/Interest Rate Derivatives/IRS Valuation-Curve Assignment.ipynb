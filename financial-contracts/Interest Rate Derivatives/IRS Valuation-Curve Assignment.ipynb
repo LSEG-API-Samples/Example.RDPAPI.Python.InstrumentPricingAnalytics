{
 "cells": [
  {
   "cell_type": "markdown",
   "metadata": {},
   "source": [
    "# Swap Samples\n",
    "\n",
    "This notebook demonstrates how to access and use the financial-contracts end point of Instrument Pricing Analytics (IPA) in the Refinitiv Data Platform.\n",
    "\n",
    "##### Learn more\n",
    "\n",
    "Please visit the [Refinitiv Developer Community Portal](https://developers.refinitiv.com/en/api-catalog/refinitiv-data-platform/refinitiv-data-platform-apis/documentation#ipa-financial-contracts-ir-swap-contracts) to access the API documentation and much more.\n",
    "\n",
    "You may also visit the [API Playground](https://apidocs.refinitiv.com/Apps/ApiDocs) to get more examples, find  end points and download Swagger files\n",
    "\n",
    "##### Getting Help and Support\n",
    "\n",
    "If you have any questions regarding the API usage, please post them on the [Refinitiv Data Platform Q&A Forum](https://community.developers.refinitiv.com/spaces/231/index.html). The Refinitiv Developer Community will be very pleased to help you. "
   ]
  },
  {
   "cell_type": "markdown",
   "metadata": {},
   "source": [
    "#### Import the library and connect to the Refinitv Data Platform\n",
    "\n",
    "This sample works in both desktop and non-desktop environment. The appropriate session can be created based on the constant variable IPA_ENVIRONMENT, that is set by default to DESKTOP for execution in the Refinitiv codebook application. To run this sample in a non-desktop environment, you may set the variable to NON-DESKTOP."
   ]
  },
  {
   "cell_type": "code",
   "execution_count": 7,
   "metadata": {},
   "outputs": [
    {
     "name": "stdout",
     "output_type": "stream",
     "text": [
      "session opened and end-point set\n"
     ]
    }
   ],
   "source": [
    "import refinitiv.dataplatform as rdp\n",
    "\n",
    "# Set IPA_ENVIRONMENT to NON-DESKTOP to use this example in a non desktop environment\n",
    "#IPA_ENVIRONMENT = \"NON-DESKTOP\"\n",
    "IPA_ENVIRONMENT = \"DESKTOP\"\n",
    "\n",
    "if (IPA_ENVIRONMENT == \"DESKTOP\"):\n",
    "    session = rdp.DesktopSession(app_key='DEFAULT_CODE_BOOK_APP_KEY')\n",
    "else:\n",
    "    %run \".\\..\\..\\credentials.ipynb\"\n",
    "    session = rdp.PlatformSession(APP_KEY, rdp.GrantPassword(RDP_LOGIN, RDP_PASSWORD))\n",
    "\n",
    "session.open()\n",
    "endpoint = rdp.Endpoint(session, \"https://api.refinitiv.com/data/quantitative-analytics/v1/financial-contracts\")\n",
    "print(\"session opened and end-point set\")"
   ]
  },
  {
   "cell_type": "markdown",
   "metadata": {},
   "source": [
    "### Valuing a Vanilla IRS using curve assignment to control the discount curve \n",
    "\n",
    "This sample value an existing swap defined leg by leg for a complete control of its term and conditions. The 'fields' requested are:\n",
    "- the market value in cash (CleanMarketValueInDealCcy, MarketValueInDealCcy, AccruedAmountInDealCcy)\n",
    "- their equivalent in in percent (AccruedPercent,CleanPricePercent,DirtyPricePercent,CleanPricePercent)\n",
    "- the PV01 (PV01Bp,PV01AmountInDealCcy)\n",
    "- the names of the zero-coupon curves used (DiscountCurveName,ForwardCurveName)\n",
    "- the error information (ErrorCode,ErrorMessage)\n",
    "\n",
    "In addition to the swap definition, the sections \"curveAssignment\" and \"marketData\" are used\n",
    "- the \"marketDataAssignments\" section specifies that the curve \"eur_ois_on_curve\" (\"assignmentTag\") is used to discount EUR denominated cash flows.\n",
    "- the \"marketdata\" section provide the definition of the curves. the \"assignmentTag\" is link between the two sections\n",
    "\n",
    "To learn more about curves, please refer to the samples in /curves-and-surfaces/curves/ "
   ]
  },
  {
   "cell_type": "code",
   "execution_count": 10,
   "metadata": {},
   "outputs": [
    {
     "name": "stdout",
     "output_type": "stream",
     "text": [
      "{'headers': [{'type': 'String', 'name': 'InstrumentTag'}, {'type': 'Float', 'name': 'MarketValueInDealCcy'}, {'type': 'Float', 'name': 'DirtyPricePercent'}, {'type': 'Float', 'name': 'FixedRatePercent'}, {'type': 'Float', 'name': 'SpreadBp'}, {'type': 'Float', 'name': 'PV01Bp'}, {'type': 'Float', 'name': 'PV01AmountInDealCcy'}, {'type': 'String', 'name': 'DiscountCurveName'}, {'type': 'String', 'name': 'ForwardCurveName'}, {'type': 'String', 'name': 'ErrorCode'}, {'type': 'String', 'name': 'ErrorMessage'}], 'data': [['IRS-EURIBOR-5Y', 25321.3163311753, 2.53213163311753, 0.5, None, 0.058172760929483, 5.8172760929483, 'EUR - OIS EONIA', None, '', ''], ['IRS-EURIBOR-5Y', 25321.3163311753, 2.53213163311753, None, 101.661832607035, -4.00826736398751, -400.826736398751, 'EUR - OIS EONIA', 'EUR - Swap vs 6M Euribor', '', '']]}\n"
     ]
    }
   ],
   "source": [
    "request_body = {\n",
    "    \n",
    "    \"fields\" : [\"InstrumentTag\",\"MarketValueInDealCcy\",\"DirtyPricePercent\",\"FixedRatePercent\",\"SpreadBp\",\"PV01Bp\",\\\n",
    "                \"PV01AmountInDealCcy\",\"DiscountCurveName\",\"ForwardCurveName\",\"ErrorCode\",\"ErrorMessage\"],\n",
    "    \n",
    "    \"universe\" : [\n",
    "        {\n",
    "            \"instrumentType\":\"Swap\",\n",
    "            \"instrumentDefinition\": {\n",
    "                \"instrumentTag\":\"IRS-EURIBOR-5Y\",\n",
    "                \"startDate\":\"2020-01-28\",\n",
    "                \"tenor\":\"5Y\",\n",
    "                \"legs\":[\n",
    "                {\n",
    "                    \"direction\":\"Paid\",\n",
    "                    \"interestType\":\"Fixed\",\n",
    "                    \"fixedRatePercent\":0.5,\n",
    "                    \"notionalCcy\":\"EUR\",\n",
    "                    \"interestPaymentFrequency\":\"Annual\",\n",
    "                    \"interestCalculationMethod\":\"Dcb_30_360\"\n",
    "                },\n",
    "                {\n",
    "                    \"direction\":\"Received\",\n",
    "                    \"interestType\":\"Float\",\n",
    "                    \"interestPaymentFrequency\":\"SemiAnnual\",\n",
    "                    \"interestCalculationMethod\":\"Dcb_Actual_360\",\n",
    "                    \"notionalCcy\":\"EUR\",\n",
    "                    \"indexName\":\"EURIBOR\",\n",
    "                    \"indexTenor\":\"6M\"\n",
    "                }]\n",
    "            }\n",
    "        }],\n",
    "    \n",
    "    \"pricingParameters\": {\n",
    "        \"valuationDate\": \"2020-10-20T00:00:00Z\"\n",
    "    },\n",
    "        \n",
    "    \"marketDataAssignments\": {\n",
    "        \"rates\": {\n",
    "            \"discount\": [\n",
    "            {\n",
    "                \"key\": {\n",
    "                    \"currency\": \"EUR\"\n",
    "                },\n",
    "                \"assignmentTag\": \"eur_ois_on_curve\"\n",
    "            }]\n",
    "        }\n",
    "    },\n",
    "\n",
    "    \"marketData\": {\n",
    "        \"interestRateCurves\": [\n",
    "        {\n",
    "            \"assignmentTag\": \"eur_ois_on_curve\",\n",
    "            \"curveDefinition\": {\n",
    "                \"currency\": \"EUR\",\n",
    "                \"discountingTenor\": \"OIS\",\n",
    "                \"indexTenor\": \"OIS\"\n",
    "            }\n",
    "        }]\n",
    "    },\n",
    "     \"outputs\" : [\"Data\",\"Headers\"],\n",
    "\n",
    "}\n",
    "\n",
    "response = endpoint.send_request(\n",
    "    method = rdp.Endpoint.RequestMethod.POST,\n",
    "    body_parameters = request_body)\n",
    "\n",
    "print(response.data.raw)"
   ]
  },
  {
   "cell_type": "code",
   "execution_count": 11,
   "metadata": {},
   "outputs": [
    {
     "data": {
      "text/html": [
       "<div>\n",
       "<style scoped>\n",
       "    .dataframe tbody tr th:only-of-type {\n",
       "        vertical-align: middle;\n",
       "    }\n",
       "\n",
       "    .dataframe tbody tr th {\n",
       "        vertical-align: top;\n",
       "    }\n",
       "\n",
       "    .dataframe thead th {\n",
       "        text-align: right;\n",
       "    }\n",
       "</style>\n",
       "<table border=\"1\" class=\"dataframe\">\n",
       "  <thead>\n",
       "    <tr style=\"text-align: right;\">\n",
       "      <th></th>\n",
       "      <th>InstrumentTag</th>\n",
       "      <th>MarketValueInDealCcy</th>\n",
       "      <th>DirtyPricePercent</th>\n",
       "      <th>FixedRatePercent</th>\n",
       "      <th>SpreadBp</th>\n",
       "      <th>PV01Bp</th>\n",
       "      <th>PV01AmountInDealCcy</th>\n",
       "      <th>DiscountCurveName</th>\n",
       "      <th>ForwardCurveName</th>\n",
       "      <th>ErrorCode</th>\n",
       "      <th>ErrorMessage</th>\n",
       "    </tr>\n",
       "  </thead>\n",
       "  <tbody>\n",
       "    <tr>\n",
       "      <th>0</th>\n",
       "      <td>IRS-EURIBOR-5Y</td>\n",
       "      <td>25321.316331</td>\n",
       "      <td>2.532132</td>\n",
       "      <td>0.5</td>\n",
       "      <td>NaN</td>\n",
       "      <td>0.058173</td>\n",
       "      <td>5.817276</td>\n",
       "      <td>EUR - OIS EONIA</td>\n",
       "      <td>None</td>\n",
       "      <td></td>\n",
       "      <td></td>\n",
       "    </tr>\n",
       "    <tr>\n",
       "      <th>1</th>\n",
       "      <td>IRS-EURIBOR-5Y</td>\n",
       "      <td>25321.316331</td>\n",
       "      <td>2.532132</td>\n",
       "      <td>NaN</td>\n",
       "      <td>101.661833</td>\n",
       "      <td>-4.008267</td>\n",
       "      <td>-400.826736</td>\n",
       "      <td>EUR - OIS EONIA</td>\n",
       "      <td>EUR - Swap vs 6M Euribor</td>\n",
       "      <td></td>\n",
       "      <td></td>\n",
       "    </tr>\n",
       "  </tbody>\n",
       "</table>\n",
       "</div>"
      ],
      "text/plain": [
       "    InstrumentTag  MarketValueInDealCcy  DirtyPricePercent  FixedRatePercent  \\\n",
       "0  IRS-EURIBOR-5Y          25321.316331           2.532132               0.5   \n",
       "1  IRS-EURIBOR-5Y          25321.316331           2.532132               NaN   \n",
       "\n",
       "     SpreadBp    PV01Bp  PV01AmountInDealCcy DiscountCurveName  \\\n",
       "0         NaN  0.058173             5.817276   EUR - OIS EONIA   \n",
       "1  101.661833 -4.008267          -400.826736   EUR - OIS EONIA   \n",
       "\n",
       "           ForwardCurveName ErrorCode ErrorMessage  \n",
       "0                      None                         \n",
       "1  EUR - Swap vs 6M Euribor                         "
      ]
     },
     "execution_count": 11,
     "metadata": {},
     "output_type": "execute_result"
    }
   ],
   "source": [
    "import pandas as pd\n",
    "\n",
    "headers_name = [h['name'] for h in response.data.raw['headers']]\n",
    "df = pd.DataFrame(data=response.data.raw['data'], columns=headers_name)\n",
    "df"
   ]
  }
 ],
 "metadata": {
  "kernelspec": {
   "display_name": "Python 3",
   "language": "python",
   "name": "python3"
  },
  "language_info": {
   "codemirror_mode": {
    "name": "ipython",
    "version": 3
   },
   "file_extension": ".py",
   "mimetype": "text/x-python",
   "name": "python",
   "nbconvert_exporter": "python",
   "pygments_lexer": "ipython3",
   "version": "3.7.4"
  }
 },
 "nbformat": 4,
 "nbformat_minor": 4
}
