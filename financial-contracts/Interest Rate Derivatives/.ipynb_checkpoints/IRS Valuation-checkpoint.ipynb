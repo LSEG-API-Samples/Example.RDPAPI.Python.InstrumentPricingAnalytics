{
 "cells": [
  {
   "cell_type": "markdown",
   "metadata": {},
   "source": [
    "# Swap Samples\n",
    "\n",
    "This notebook demonstrates how to access and use the financial-contracts end point of Instrument Pricing Analytics (IPA) in the Refinitiv Data Platform.\n",
    "\n",
    "##### Learn more\n",
    "\n",
    "Please visit the [Refinitiv Developer Community Portal](https://developers.refinitiv.com/en/api-catalog/refinitiv-data-platform/refinitiv-data-platform-apis) to access the API documentation and much more.\n",
    "\n",
    "You may also visit the [API Playground](https://apidocs.refinitiv.com/Apps/ApiDocs) to get more examples, find  end points and download Swagger files\n",
    "\n",
    "##### Getting Help and Support\n",
    "\n",
    "If you have any questions regarding the API usage, please post them on the [Refinitiv Data Platform Q&A Forum](https://community.developers.refinitiv.com/spaces/231/index.html). The Refinitiv Developer Community will be very pleased to help you. "
   ]
  },
  {
   "cell_type": "markdown",
   "metadata": {},
   "source": [
    "#### Import the library and connect to the Refinitv Data Platform"
   ]
  },
  {
   "cell_type": "code",
   "execution_count": 5,
   "metadata": {},
   "outputs": [
    {
     "name": "stdout",
     "output_type": "stream",
     "text": [
      "session opened and end-point set\n"
     ]
    }
   ],
   "source": [
    "import refinitiv.dataplatform as rdp\n",
    "\n",
    "%run \".\\..\\..\\credentials.ipynb\"\n",
    "\n",
    "session = rdp.PlatformSession(\n",
    "    APP_KEY,\n",
    "    rdp.GrantPassword(\n",
    "        RDP_LOGIN,\n",
    "        RDP_PASSWORD\n",
    "    )\n",
    ")\n",
    "\n",
    "session.open()\n",
    "endpoint = rdp.Endpoint(session, \"https://api.edp.thomsonreuters.com/data/quantitative-analytics/v1/financial-contracts\")\n",
    "print(\"session opened and end-point set\")"
   ]
  },
  {
   "cell_type": "markdown",
   "metadata": {},
   "source": [
    "### Valuing a Vanilla IRS\n",
    "\n",
    "This sample value an existing swap defined leg by leg for a complete control of its term and conditions. The 'fields' requested are:\n",
    "- the market value in cash (CleanMarketValueInDealCcy, MarketValueInDealCcy, AccruedAmountInDealCcy)\n",
    "- their equivalent in in percent (AccruedPercent,CleanPricePercent,DirtyPricePercent,CleanPricePercent)\n",
    "- the PV01 (PV01Bp,PV01AmountInDealCcy)\n",
    "- the names of the zero-coupon curves used (DiscountCurveName,ForwardCurveName)\n",
    "- the error information (ErrorCode,ErrorMessage)\n"
   ]
  },
  {
   "cell_type": "code",
   "execution_count": 6,
   "metadata": {},
   "outputs": [
    {
     "name": "stdout",
     "output_type": "stream",
     "text": [
      "{'headers': [{'type': 'String', 'name': 'InstrumentTag'}, {'type': 'Float', 'name': 'MarketValueInDealCcy'}, {'type': 'Float', 'name': 'DirtyPricePercent'}, {'type': 'Float', 'name': 'FixedRatePercent'}, {'type': 'Float', 'name': 'SpreadBp'}, {'type': 'Float', 'name': 'PV01Bp'}, {'type': 'Float', 'name': 'PV01AmountInDealCcy'}, {'type': 'String', 'name': 'DiscountCurveName'}, {'type': 'String', 'name': 'ForwardCurveName'}, {'type': 'String', 'name': 'ErrorCode'}, {'type': 'String', 'name': 'ErrorMessage'}], 'data': [['IRS-EURIBOR-5Y', 25290.3429030632, 2.52903429030632, 0.5, None, 0.0580330536437395, 5.80330536437395, 'EUR - Swap vs 6M Euribor', None, '', ''], ['IRS-EURIBOR-5Y', 25290.3429030633, 2.52903429030632, None, 101.661939418698, -4.00295917304833, -400.295917304833, 'EUR - Swap vs 6M Euribor', 'EUR - Swap vs 6M Euribor', '', '']]}\n"
     ]
    }
   ],
   "source": [
    "request_body = {\n",
    "    \n",
    "    \"fields\" : [\"InstrumentTag\",\"MarketValueInDealCcy\",\"DirtyPricePercent\",\"FixedRatePercent\",\"SpreadBp\",\"PV01Bp\",\\\n",
    "                \"PV01AmountInDealCcy\",\"DiscountCurveName\",\"ForwardCurveName\",\"ErrorCode\",\"ErrorMessage\"],\n",
    "    \n",
    "    \"universe\" : [\n",
    "        {\n",
    "            \"instrumentType\":\"Swap\",\n",
    "            \"instrumentDefinition\": {\n",
    "                \"instrumentTag\":\"IRS-EURIBOR-5Y\",\n",
    "                \"startDate\":\"2020-01-28\",\n",
    "                \"tenor\":\"5Y\",\n",
    "                \"legs\":[\n",
    "                {\n",
    "                    \"direction\":\"Paid\",\n",
    "                    \"interestType\":\"Fixed\",\n",
    "                    \"fixedRatePercent\":0.5,\n",
    "                    \"notionalCcy\":\"EUR\",\n",
    "                    \"interestPaymentFrequency\":\"Annual\",\n",
    "                    \"interestCalculationMethod\":\"Dcb_30_360\",\n",
    "                },\n",
    "                {\n",
    "                    \"direction\":\"Received\",\n",
    "                    \"interestType\":\"Float\",\n",
    "                    \"interestPaymentFrequency\":\"SemiAnnual\",\n",
    "                    \"interestCalculationMethod\":\"Dcb_Actual_360\",\n",
    "                    \"notionalCcy\":\"EUR\",\n",
    "                    \"indexName\":\"EURIBOR\",\n",
    "                    \"indexTenor\":\"6M\",\n",
    "                }]\n",
    "            }\n",
    "        }],\n",
    "    \n",
    "    \"pricingParameters\": {\n",
    "        \"valuationDate\": \"2020-10-20T00:00:00Z\",\n",
    "    },\n",
    "        \n",
    "    \"outputs\" : [\"Data\",\"Headers\"],\n",
    "\n",
    "}\n",
    "\n",
    "response = endpoint.send_request(\n",
    "    method = rdp.Endpoint.RequestMethod.POST,\n",
    "    body_parameters = request_body)\n",
    "\n",
    "print(response.data.raw)"
   ]
  },
  {
   "cell_type": "code",
   "execution_count": 7,
   "metadata": {},
   "outputs": [
    {
     "data": {
      "text/html": [
       "<div>\n",
       "<style scoped>\n",
       "    .dataframe tbody tr th:only-of-type {\n",
       "        vertical-align: middle;\n",
       "    }\n",
       "\n",
       "    .dataframe tbody tr th {\n",
       "        vertical-align: top;\n",
       "    }\n",
       "\n",
       "    .dataframe thead th {\n",
       "        text-align: right;\n",
       "    }\n",
       "</style>\n",
       "<table border=\"1\" class=\"dataframe\">\n",
       "  <thead>\n",
       "    <tr style=\"text-align: right;\">\n",
       "      <th></th>\n",
       "      <th>InstrumentTag</th>\n",
       "      <th>MarketValueInDealCcy</th>\n",
       "      <th>DirtyPricePercent</th>\n",
       "      <th>FixedRatePercent</th>\n",
       "      <th>SpreadBp</th>\n",
       "      <th>PV01Bp</th>\n",
       "      <th>PV01AmountInDealCcy</th>\n",
       "      <th>DiscountCurveName</th>\n",
       "      <th>ForwardCurveName</th>\n",
       "      <th>ErrorCode</th>\n",
       "      <th>ErrorMessage</th>\n",
       "    </tr>\n",
       "  </thead>\n",
       "  <tbody>\n",
       "    <tr>\n",
       "      <th>0</th>\n",
       "      <td>IRS-EURIBOR-5Y</td>\n",
       "      <td>25290.342903</td>\n",
       "      <td>2.529034</td>\n",
       "      <td>0.5</td>\n",
       "      <td>NaN</td>\n",
       "      <td>0.058033</td>\n",
       "      <td>5.803305</td>\n",
       "      <td>EUR - Swap vs 6M Euribor</td>\n",
       "      <td>None</td>\n",
       "      <td></td>\n",
       "      <td></td>\n",
       "    </tr>\n",
       "    <tr>\n",
       "      <th>1</th>\n",
       "      <td>IRS-EURIBOR-5Y</td>\n",
       "      <td>25290.342903</td>\n",
       "      <td>2.529034</td>\n",
       "      <td>NaN</td>\n",
       "      <td>101.661939</td>\n",
       "      <td>-4.002959</td>\n",
       "      <td>-400.295917</td>\n",
       "      <td>EUR - Swap vs 6M Euribor</td>\n",
       "      <td>EUR - Swap vs 6M Euribor</td>\n",
       "      <td></td>\n",
       "      <td></td>\n",
       "    </tr>\n",
       "  </tbody>\n",
       "</table>\n",
       "</div>"
      ],
      "text/plain": [
       "    InstrumentTag  MarketValueInDealCcy  DirtyPricePercent  FixedRatePercent  \\\n",
       "0  IRS-EURIBOR-5Y          25290.342903           2.529034               0.5   \n",
       "1  IRS-EURIBOR-5Y          25290.342903           2.529034               NaN   \n",
       "\n",
       "     SpreadBp    PV01Bp  PV01AmountInDealCcy         DiscountCurveName  \\\n",
       "0         NaN  0.058033             5.803305  EUR - Swap vs 6M Euribor   \n",
       "1  101.661939 -4.002959          -400.295917  EUR - Swap vs 6M Euribor   \n",
       "\n",
       "           ForwardCurveName ErrorCode ErrorMessage  \n",
       "0                      None                         \n",
       "1  EUR - Swap vs 6M Euribor                         "
      ]
     },
     "execution_count": 7,
     "metadata": {},
     "output_type": "execute_result"
    }
   ],
   "source": [
    "import pandas as pd\n",
    "\n",
    "headers_name = [h['name'] for h in response.data.raw['headers']]\n",
    "df = pd.DataFrame(data=response.data.raw['data'], columns=headers_name)\n",
    "df"
   ]
  },
  {
   "cell_type": "code",
   "execution_count": null,
   "metadata": {},
   "outputs": [],
   "source": []
  }
 ],
 "metadata": {
  "kernelspec": {
   "display_name": "Python 3",
   "language": "python",
   "name": "python3"
  },
  "language_info": {
   "codemirror_mode": {
    "name": "ipython",
    "version": 3
   },
   "file_extension": ".py",
   "mimetype": "text/x-python",
   "name": "python",
   "nbconvert_exporter": "python",
   "pygments_lexer": "ipython3",
   "version": "3.7.4"
  }
 },
 "nbformat": 4,
 "nbformat_minor": 4
}
