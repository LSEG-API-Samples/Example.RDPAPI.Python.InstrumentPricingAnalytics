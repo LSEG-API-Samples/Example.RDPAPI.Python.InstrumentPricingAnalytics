{
 "cells": [
  {
   "cell_type": "markdown",
   "metadata": {},
   "source": [
    "# Overnight Index Swap Samples\n",
    "\n",
    "This notebook demonstrates how to access and use the financial-contracts end point of Instrument Pricing Analytics (IPA) in the Refinitiv Data Platform.\n",
    "\n",
    "##### Learn more\n",
    "\n",
    "Please visit the [Refinitiv Developer Community Portal](https://developers.refinitiv.com/en/api-catalog/refinitiv-data-platform/refinitiv-data-platform-apis/documentation#ipa-financial-contracts-ir-swap-contracts) to access the API documentation and much more.\n",
    "\n",
    "You may also visit the [API Playground](https://apidocs.refinitiv.com/Apps/ApiDocs) to get more examples, find  end points and download Swagger files\n",
    "\n",
    "##### Getting Help and Support\n",
    "\n",
    "If you have any questions regarding the API usage, please post them on the [Refinitiv Data Platform Q&A Forum](https://community.developers.refinitiv.com/spaces/231/index.html). The Refinitiv Developer Community will be very pleased to help you. "
   ]
  },
  {
   "cell_type": "markdown",
   "metadata": {},
   "source": [
    "#### Import the library and connect to the Refinitv Data Platform\n",
    "\n",
    "This sample works in both desktop and non-desktop environment. The appropriate session can be created based on the constant variable IPA_ENVIRONMENT, that is set by default to DESKTOP for execution in the Refinitiv codebook application. To run this sample in a non-desktop environment, you may set the variable to NON-DESKTOP."
   ]
  },
  {
   "cell_type": "code",
   "execution_count": 2,
   "metadata": {},
   "outputs": [
    {
     "name": "stdout",
     "output_type": "stream",
     "text": [
      "session opened and end-point set\n"
     ]
    }
   ],
   "source": [
    "import refinitiv.dataplatform as rdp\n",
    "\n",
    "# Set IPA_ENVIRONMENT to NON-DESKTOP to use this example in a non desktop environment\n",
    "# IPA_ENVIRONMENT = \"NON-DESKTOP\"\n",
    "IPA_ENVIRONMENT = \"DESKTOP\"\n",
    "\n",
    "if (IPA_ENVIRONMENT == \"DEKSTOP\"):\n",
    "    session = rdp.DesktopSession(app_key='DEFAULT_CODE_BOOK_APP_KEY')\n",
    "else:\n",
    "    %run \".\\..\\..\\credentials.ipynb\"\n",
    "    session = rdp.PlatformSession(APP_KEY, rdp.GrantPassword(RDP_LOGIN, RDP_PASSWORD))\n",
    "\n",
    "session.open()\n",
    "endpoint = rdp.Endpoint(session, \"https://api.edp.thomsonreuters.com/data/quantitative-analytics/v1/financial-contracts\")\n",
    "print(\"session opened and end-point set\")"
   ]
  },
  {
   "cell_type": "markdown",
   "metadata": {},
   "source": [
    "### Valuing an Overnight Index Swap\n",
    "\n",
    "This sample value an existing basis swap defined leg by leg for a complete control of its term and conditions. The 'fields' requested are:\n",
    "- the market value in cash (CleanMarketValueInDealCcy, MarketValueInDealCcy, AccruedAmountInDealCcy)\n",
    "- their equivalent in in percent (AccruedPercent,CleanPricePercent,DirtyPricePercent,CleanPricePercent)\n",
    "- the PV01 (PV01Bp,PV01AmountInDealCcy)\n",
    "- the names of the zero-coupon curves used (DiscountCurveName,ForwardCurveName)\n",
    "- the error information (ErrorCode,ErrorMessage)\n"
   ]
  },
  {
   "cell_type": "code",
   "execution_count": 15,
   "metadata": {},
   "outputs": [
    {
     "name": "stdout",
     "output_type": "stream",
     "text": [
      "{'headers': [{'type': 'String', 'name': 'InstrumentTag'}, {'type': 'Float', 'name': 'MarketValueInDealCcy'}, {'type': 'Float', 'name': 'DirtyPricePercent'}, {'type': 'Float', 'name': 'FixedRatePercent'}, {'type': 'Float', 'name': 'SpreadBp'}, {'type': 'Float', 'name': 'PV01Bp'}, {'type': 'Float', 'name': 'PV01AmountInDealCcy'}, {'type': 'String', 'name': 'DiscountCurveName'}, {'type': 'String', 'name': 'ForwardCurveName'}, {'type': 'String', 'name': 'ErrorCode'}, {'type': 'String', 'name': 'ErrorMessage'}], 'data': [['OIS-EONIA-2Y', -7136.25847942757, -0.713625847942757, -0.35, None, -0.00555244482591661, -0.555244482591661, 'EUR - OIS EONIA', None, '', ''], ['OIS-EONIA-2Y', -8011.86388623891, -0.801186388623891, None, 0.0, -1.28900000500627, -128.900000500627, 'EUR - OIS EONIA', 'EUR - OIS EONIA', '', '']]}\n"
     ]
    }
   ],
   "source": [
    "request_body = {\n",
    "    \n",
    "    \"fields\" : [\"InstrumentTag\",\"MarketValueInDealCcy\",\"DirtyPricePercent\",\"FixedRatePercent\",\"SpreadBp\",\"PV01Bp\",\\\n",
    "                \"PV01AmountInDealCcy\",\"DiscountCurveName\",\"ForwardCurveName\",\"ErrorCode\",\"ErrorMessage\"],\n",
    "    \n",
    "    \"universe\" : [\n",
    "        {\n",
    "            \"instrumentType\":\"Swap\",\n",
    "            \"instrumentDefinition\": {\n",
    "                \"instrumentTag\":\"OIS-EONIA-2Y\",\n",
    "                \"startDate\":\"2020-01-28\",\n",
    "                \"tenor\":\"2Y\",\n",
    "                \"legs\":[\n",
    "                {\n",
    "                    \"direction\":\"Paid\",\n",
    "                    \"interestType\":\"Fixed\",\n",
    "                    \"interestPaymentFrequency\":\"Annual\",\n",
    "                    \"interestCalculationMethod\":\"Dcb_Actual_360\",\n",
    "                    \"notionalCcy\":\"EUR\",\n",
    "                    \"fixedRatePercent\":-0.35\n",
    "                },\n",
    "                {\n",
    "                    \"direction\":\"Received\",\n",
    "                    \"interestType\":\"Float\",\n",
    "                    \"interestPaymentFrequency\":\"Quarterly\",\n",
    "                    \"interestCalculationMethod\":\"Dcb_Actual_360\",\n",
    "                    \"notionalCcy\":\"EUR\",\n",
    "                    \"indexName\":\"EONIA\",\n",
    "                    \"indexTenor\":\"ON\",\n",
    "                    \"SpreadBp\":0\n",
    "                }]\n",
    "            }\n",
    "        }],\n",
    "    \n",
    "    \"pricingParameters\": {\n",
    "        \"valuationDate\": \"2020-10-20T00:00:00Z\"\n",
    "    },\n",
    "        \n",
    "    \"outputs\" : [\"Data\",\"Headers\"],\n",
    "\n",
    "}\n",
    "\n",
    "response = endpoint.send_request(\n",
    "    method = rdp.Endpoint.RequestMethod.POST,\n",
    "    body_parameters = request_body)\n",
    "\n",
    "print(response.data.raw)"
   ]
  },
  {
   "cell_type": "code",
   "execution_count": 16,
   "metadata": {},
   "outputs": [
    {
     "data": {
      "text/html": [
       "<div>\n",
       "<style scoped>\n",
       "    .dataframe tbody tr th:only-of-type {\n",
       "        vertical-align: middle;\n",
       "    }\n",
       "\n",
       "    .dataframe tbody tr th {\n",
       "        vertical-align: top;\n",
       "    }\n",
       "\n",
       "    .dataframe thead th {\n",
       "        text-align: right;\n",
       "    }\n",
       "</style>\n",
       "<table border=\"1\" class=\"dataframe\">\n",
       "  <thead>\n",
       "    <tr style=\"text-align: right;\">\n",
       "      <th></th>\n",
       "      <th>InstrumentTag</th>\n",
       "      <th>MarketValueInDealCcy</th>\n",
       "      <th>DirtyPricePercent</th>\n",
       "      <th>FixedRatePercent</th>\n",
       "      <th>SpreadBp</th>\n",
       "      <th>PV01Bp</th>\n",
       "      <th>PV01AmountInDealCcy</th>\n",
       "      <th>DiscountCurveName</th>\n",
       "      <th>ForwardCurveName</th>\n",
       "      <th>ErrorCode</th>\n",
       "      <th>ErrorMessage</th>\n",
       "    </tr>\n",
       "  </thead>\n",
       "  <tbody>\n",
       "    <tr>\n",
       "      <th>0</th>\n",
       "      <td>OIS-EONIA-2Y</td>\n",
       "      <td>-7136.258479</td>\n",
       "      <td>-0.713626</td>\n",
       "      <td>-0.35</td>\n",
       "      <td>NaN</td>\n",
       "      <td>-0.005552</td>\n",
       "      <td>-0.555244</td>\n",
       "      <td>EUR - OIS EONIA</td>\n",
       "      <td>None</td>\n",
       "      <td></td>\n",
       "      <td></td>\n",
       "    </tr>\n",
       "    <tr>\n",
       "      <th>1</th>\n",
       "      <td>OIS-EONIA-2Y</td>\n",
       "      <td>-8011.863886</td>\n",
       "      <td>-0.801186</td>\n",
       "      <td>NaN</td>\n",
       "      <td>0.0</td>\n",
       "      <td>-1.289000</td>\n",
       "      <td>-128.900001</td>\n",
       "      <td>EUR - OIS EONIA</td>\n",
       "      <td>EUR - OIS EONIA</td>\n",
       "      <td></td>\n",
       "      <td></td>\n",
       "    </tr>\n",
       "  </tbody>\n",
       "</table>\n",
       "</div>"
      ],
      "text/plain": [
       "  InstrumentTag  MarketValueInDealCcy  DirtyPricePercent  FixedRatePercent  \\\n",
       "0  OIS-EONIA-2Y          -7136.258479          -0.713626             -0.35   \n",
       "1  OIS-EONIA-2Y          -8011.863886          -0.801186               NaN   \n",
       "\n",
       "   SpreadBp    PV01Bp  PV01AmountInDealCcy DiscountCurveName ForwardCurveName  \\\n",
       "0       NaN -0.005552            -0.555244   EUR - OIS EONIA             None   \n",
       "1       0.0 -1.289000          -128.900001   EUR - OIS EONIA  EUR - OIS EONIA   \n",
       "\n",
       "  ErrorCode ErrorMessage  \n",
       "0                         \n",
       "1                         "
      ]
     },
     "execution_count": 16,
     "metadata": {},
     "output_type": "execute_result"
    },
    {
     "name": "stdout",
     "output_type": "stream",
     "text": [
      "2021-01-08 18:30:12,019 - Session session.platform - Thread 18400 | MainThread\n",
      "[Error 400 - invalid_grant] empty error description\n"
     ]
    }
   ],
   "source": [
    "import pandas as pd\n",
    "\n",
    "headers_name = [h['name'] for h in response.data.raw['headers']]\n",
    "df = pd.DataFrame(data=response.data.raw['data'], columns=headers_name)\n",
    "df"
   ]
  }
 ],
 "metadata": {
  "kernelspec": {
   "display_name": "Python 3",
   "language": "python",
   "name": "python3"
  },
  "language_info": {
   "codemirror_mode": {
    "name": "ipython",
    "version": 3
   },
   "file_extension": ".py",
   "mimetype": "text/x-python",
   "name": "python",
   "nbconvert_exporter": "python",
   "pygments_lexer": "ipython3",
   "version": "3.7.4"
  }
 },
 "nbformat": 4,
 "nbformat_minor": 4
}
