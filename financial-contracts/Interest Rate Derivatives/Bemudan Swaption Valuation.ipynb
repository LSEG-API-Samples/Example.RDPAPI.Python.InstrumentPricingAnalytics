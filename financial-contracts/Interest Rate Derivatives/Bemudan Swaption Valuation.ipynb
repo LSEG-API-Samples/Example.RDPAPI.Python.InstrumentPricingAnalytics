{
 "cells": [
  {
   "cell_type": "markdown",
   "metadata": {},
   "source": [
    "# Swaption Samples\n",
    "\n",
    "This notebook demonstrates how to access and use the financial-contracts end point of Instrument Pricing Analytics (IPA) in the Refinitiv Data Platform.\n",
    "\n",
    "##### Learn more\n",
    "\n",
    "Please visit the [Refinitiv Developer Community Portal](https://developers.refinitiv.com/en/api-catalog/refinitiv-data-platform/refinitiv-data-platform-apis/documentation#ipa-financial-contracts-swaption-contracts) to access the API documentation and much more.\n",
    "\n",
    "You may also visit the [API Playground](https://apidocs.refinitiv.com/Apps/ApiDocs) to get more examples, find  end points and download Swagger files\n",
    "\n",
    "##### Getting Help and Support\n",
    "\n",
    "If you have any questions regarding the API usage, please post them on the [Refinitiv Data Platform Q&A Forum](https://community.developers.refinitiv.com/spaces/231/index.html). The Refinitiv Developer Community will be very pleased to help you. "
   ]
  },
  {
   "cell_type": "markdown",
   "metadata": {},
   "source": [
    "#### Import the library and connect to the Refinitv Data Platform\n",
    "\n",
    "This sample works in both desktop and non-desktop environment. The appropriate session can be created based on the constant variable IPA_ENVIRONMENT, that is set by default to DESKTOP for execution in the Refinitiv codebook application. To run this sample in a non-desktop environment, you may set the variable to NON-DESKTOP."
   ]
  },
  {
   "cell_type": "code",
   "execution_count": 3,
   "metadata": {},
   "outputs": [
    {
     "name": "stdout",
     "output_type": "stream",
     "text": [
      "session opened and end-point set\n"
     ]
    }
   ],
   "source": [
    "import refinitiv.dataplatform as rdp\n",
    "import pandas as pd\n",
    "\n",
    "# Set IPA_ENVIRONMENT to NON-DESKTOP to use this example in a non desktop environment\n",
    "#IPA_ENVIRONMENT = \"NON-DESKTOP\"\n",
    "IPA_ENVIRONMENT = \"DESKTOP\"\n",
    "\n",
    "if (IPA_ENVIRONMENT == \"DESKTOP\"):\n",
    "    session = rdp.DesktopSession(app_key='DEFAULT_CODE_BOOK_APP_KEY')\n",
    "else:\n",
    "    %run \".\\..\\..\\credentials.ipynb\"\n",
    "    session = rdp.PlatformSession(APP_KEY, rdp.GrantPassword(RDP_LOGIN, RDP_PASSWORD))\n",
    "\n",
    "session.open()\n",
    "endpoint = rdp.Endpoint(session, \"https://api.refinitiv.com/data/quantitative-analytics/v1/financial-contracts\")\n",
    "print(\"session opened and end-point set\")"
   ]
  },
  {
   "cell_type": "markdown",
   "metadata": {},
   "source": [
    "### Valuing an existing Bemudan Swaption\n",
    "\n",
    "This sample value on the 2020-09-12 with market data from 2020-10-09 an existing swaption expiring on 2021-01-20 defined on a standard 6 month euribor swap. The 'fields' requested are:\n",
    "- descriptive fields (\"InstrumentTag\",\"InstrumentDescription\",\"StartDate\",\"EndDate\")\n",
    "- the market value in cash (\"MarketValueInDealCcy\")\n",
    "- the Greeks in amount (\"DeltaAmountInDealCcy\", \"GammaAmountInDealCcy\", \"ThetaAmountInDealCcy\", \"VegaAmountInDealCcy\")\n",
    "- the Greeks in percent (\"DeltaPercent\", \"GammaPercent\", \"ThetaPercent\", \"VegaPercent\")\n",
    "- the names of the zero-coupon curves used for discounting (\"DiscountCurveName\") and estimating forward rates (\"ForwardCurveName\")\n",
    "- the error information (\"ErrorCode\", \"ErrorMessage\")\n"
   ]
  },
  {
   "cell_type": "code",
   "execution_count": 4,
   "metadata": {},
   "outputs": [
    {
     "data": {
      "text/html": [
       "<div>\n",
       "<style scoped>\n",
       "    .dataframe tbody tr th:only-of-type {\n",
       "        vertical-align: middle;\n",
       "    }\n",
       "\n",
       "    .dataframe tbody tr th {\n",
       "        vertical-align: top;\n",
       "    }\n",
       "\n",
       "    .dataframe thead th {\n",
       "        text-align: right;\n",
       "    }\n",
       "</style>\n",
       "<table border=\"1\" class=\"dataframe\">\n",
       "  <thead>\n",
       "    <tr style=\"text-align: right;\">\n",
       "      <th></th>\n",
       "      <th>InstrumentTag</th>\n",
       "      <th>InstrumentDescription</th>\n",
       "      <th>StartDate</th>\n",
       "      <th>EndDate</th>\n",
       "      <th>MarketValueInDealCcy</th>\n",
       "      <th>DeltaAmountInDealCcy</th>\n",
       "      <th>DeltaPercent</th>\n",
       "      <th>GammaAmountInDealCcy</th>\n",
       "      <th>GammaPercent</th>\n",
       "      <th>ThetaAmountInDealCcy</th>\n",
       "      <th>ThetaPercent</th>\n",
       "      <th>VegaAmountInDealCcy</th>\n",
       "      <th>VegaPercent</th>\n",
       "      <th>DiscountCurveName</th>\n",
       "      <th>ForwardCurveName</th>\n",
       "      <th>ErrorCode</th>\n",
       "      <th>ErrorMessage</th>\n",
       "    </tr>\n",
       "  </thead>\n",
       "  <tbody>\n",
       "    <tr>\n",
       "      <th>0</th>\n",
       "      <td>EUR_6M_5Y_pay</td>\n",
       "      <td>long payer BERM 4M x 5Y Swaption</td>\n",
       "      <td>2021-01-22T00:00:00Z</td>\n",
       "      <td>2026-01-22T00:00:00Z</td>\n",
       "      <td>4156.809616</td>\n",
       "      <td>113.970051</td>\n",
       "      <td>1.139701</td>\n",
       "      <td>1.54221</td>\n",
       "      <td>154.220991</td>\n",
       "      <td>5.746472</td>\n",
       "      <td>0.000006</td>\n",
       "      <td>171.819304</td>\n",
       "      <td>1.718193</td>\n",
       "      <td>EUR 6M disc. EUR 6M curve</td>\n",
       "      <td>EUR 6M disc. EUR 6M curve</td>\n",
       "      <td></td>\n",
       "      <td></td>\n",
       "    </tr>\n",
       "  </tbody>\n",
       "</table>\n",
       "</div>"
      ],
      "text/plain": [
       "   InstrumentTag             InstrumentDescription             StartDate  \\\n",
       "0  EUR_6M_5Y_pay  long payer BERM 4M x 5Y Swaption  2021-01-22T00:00:00Z   \n",
       "\n",
       "                EndDate  MarketValueInDealCcy  DeltaAmountInDealCcy  \\\n",
       "0  2026-01-22T00:00:00Z           4156.809616            113.970051   \n",
       "\n",
       "   DeltaPercent  GammaAmountInDealCcy  GammaPercent  ThetaAmountInDealCcy  \\\n",
       "0      1.139701               1.54221    154.220991              5.746472   \n",
       "\n",
       "   ThetaPercent  VegaAmountInDealCcy  VegaPercent          DiscountCurveName  \\\n",
       "0      0.000006           171.819304     1.718193  EUR 6M disc. EUR 6M curve   \n",
       "\n",
       "            ForwardCurveName ErrorCode ErrorMessage  \n",
       "0  EUR 6M disc. EUR 6M curve                         "
      ]
     },
     "execution_count": 4,
     "metadata": {},
     "output_type": "execute_result"
    }
   ],
   "source": [
    "request_body = {\n",
    "    \n",
    "    \"fields\" : [\"InstrumentTag\",\"InstrumentDescription\",\"StartDate\",\"EndDate\",\"MarketValueInDealCcy\",\n",
    "                \"DeltaAmountInDealCcy\",\"DeltaPercent\", \"GammaAmountInDealCcy\", \"GammaPercent\", \"ThetaAmountInDealCcy\", \"ThetaPercent\", \"VegaAmountInDealCcy\", \"VegaPercent\",\n",
    "                \"DiscountCurveName\",\"ForwardCurveName\",\"ErrorCode\",\"ErrorMessage\"],\n",
    "    \n",
    "    \"universe\" : [\n",
    "    {   \n",
    "        \"instrumentType\": \"Swaption\",\n",
    "        \n",
    "        \"instrumentDefinition\": {\n",
    "            \"instrumentTag\": \"EUR_6M_5Y_pay\",\n",
    "            \"settlementType\": \"Physical\",\n",
    "            \"buySell\": \"Buy\",\n",
    "            \"callPut\": \"Call\",\n",
    "            \"exerciseStyle\":\"BERM\",\n",
    "            \"NotionalAmount\":1000000,\n",
    "            \"endDate\": \"2021-01-20\",\n",
    "            \"strikePercent\": 0.213736199,\n",
    "            \"underlyingDefinition\": {\n",
    "                \"tenor\": \"5Y\",\n",
    "                \"template\": \"EUR_AB6E\"\n",
    "            },\n",
    "            \n",
    "            \"bermudanSwaptionDefinition\" : {\n",
    "                \"exerciseScheduleType\" : \"FixedLeg\"\n",
    "            }\n",
    "        }        \n",
    "    }],\n",
    "    \n",
    "    \"pricingParameters\": {\n",
    "        \"marketDataDate\": \"2020-09-10\",\n",
    "        \"valuationDate\": \"2020-09-12\"\n",
    "    },\n",
    "        \n",
    "    \"outputs\" : [\"Data\",\"Headers\"],\n",
    "\n",
    "}\n",
    "\n",
    "response = endpoint.send_request(\n",
    "    method = rdp.Endpoint.RequestMethod.POST,\n",
    "    body_parameters = request_body)\n",
    "\n",
    "headers_name = [h['name'] for h in response.data.raw['headers']]\n",
    "df = pd.DataFrame(data=response.data.raw['data'], columns=headers_name)\n",
    "df"
   ]
  },
  {
   "cell_type": "code",
   "execution_count": null,
   "metadata": {},
   "outputs": [],
   "source": []
  }
 ],
 "metadata": {
  "kernelspec": {
   "display_name": "Python 3",
   "language": "python",
   "name": "python3"
  },
  "language_info": {
   "codemirror_mode": {
    "name": "ipython",
    "version": 3
   },
   "file_extension": ".py",
   "mimetype": "text/x-python",
   "name": "python",
   "nbconvert_exporter": "python",
   "pygments_lexer": "ipython3",
   "version": "3.7.4"
  }
 },
 "nbformat": 4,
 "nbformat_minor": 4
}
