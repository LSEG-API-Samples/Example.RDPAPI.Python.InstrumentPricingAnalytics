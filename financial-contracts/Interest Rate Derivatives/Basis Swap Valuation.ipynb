{
 "cells": [
  {
   "cell_type": "markdown",
   "metadata": {},
   "source": [
    "# Basis Swap Samples\n",
    "\n",
    "This notebook demonstrates how to access and use the financial-contracts end point of Instrument Pricing Analytics (IPA) in the Refinitiv Data Platform.\n",
    "\n",
    "##### Learn more\n",
    "\n",
    "Please visit the [Refinitiv Developer Community Portal](https://developers.refinitiv.com/en/api-catalog/refinitiv-data-platform/refinitiv-data-platform-apis/documentation#ipa-financial-contracts-ir-swap-contracts) to access the API documentation and much more.\n",
    "\n",
    "You may also visit the [API Playground](https://apidocs.refinitiv.com/Apps/ApiDocs) to get more examples, find  end points and download Swagger files\n",
    "\n",
    "##### Getting Help and Support\n",
    "\n",
    "If you have any questions regarding the API usage, please post them on the [Refinitiv Data Platform Q&A Forum](https://community.developers.refinitiv.com/spaces/231/index.html). The Refinitiv Developer Community will be very pleased to help you. "
   ]
  },
  {
   "cell_type": "markdown",
   "metadata": {},
   "source": [
    "#### Import the library and connect to the Refinitv Data Platform\n",
    "\n",
    "This sample works in both desktop and non-desktop environment. The appropriate session can be created based on the constant variable IPA_ENVIRONMENT, that is set by default to DESKTOP for execution in the Refinitiv codebook application. To run this sample in a non-desktop environment, you may set the variable to NON-DESKTOP."
   ]
  },
  {
   "cell_type": "code",
   "execution_count": 7,
   "metadata": {},
   "outputs": [
    {
     "name": "stdout",
     "output_type": "stream",
     "text": [
      "session opened and end-point set\n"
     ]
    }
   ],
   "source": [
    "import refinitiv.dataplatform as rdp\n",
    "\n",
    "# Set IPA_ENVIRONMENT to NON-DESKTOP to use this example in a non desktop environment\n",
    "# IPA_ENVIRONMENT = \"NON-DESKTOP\"\n",
    "IPA_ENVIRONMENT = \"DESKTOP\"\n",
    "\n",
    "if (IPA_ENVIRONMENT == \"DESKTOP\"):\n",
    "    session = rdp.DesktopSession(app_key='DEFAULT_CODE_BOOK_APP_KEY')\n",
    "else:\n",
    "    %run \".\\..\\..\\credentials.ipynb\"\n",
    "    session = rdp.PlatformSession(APP_KEY, rdp.GrantPassword(RDP_LOGIN, RDP_PASSWORD))\n",
    "\n",
    "session.open()\n",
    "endpoint = rdp.Endpoint(session, \"https://api.refinitiv.com/data/quantitative-analytics/v1/financial-contracts\")\n",
    "print(\"session opened and end-point set\")"
   ]
  },
  {
   "cell_type": "markdown",
   "metadata": {},
   "source": [
    "### Valuing a Basis Swap\n",
    "\n",
    "This sample value an existing basis swap defined leg by leg for a complete control of its term and conditions. The 'fields' requested are:\n",
    "- the market value in cash (CleanMarketValueInDealCcy, MarketValueInDealCcy, AccruedAmountInDealCcy)\n",
    "- their equivalent in in percent (AccruedPercent,CleanPricePercent,DirtyPricePercent,CleanPricePercent)\n",
    "- the PV01 (PV01Bp,PV01AmountInDealCcy)\n",
    "- the names of the zero-coupon curves used (DiscountCurveName,ForwardCurveName)\n",
    "- the error information (ErrorCode,ErrorMessage)\n"
   ]
  },
  {
   "cell_type": "code",
   "execution_count": 8,
   "metadata": {},
   "outputs": [
    {
     "name": "stdout",
     "output_type": "stream",
     "text": [
      "{'headers': [{'type': 'String', 'name': 'InstrumentTag'}, {'type': 'Float', 'name': 'MarketValueInDealCcy'}, {'type': 'Float', 'name': 'DirtyPricePercent'}, {'type': 'Float', 'name': 'FixedRatePercent'}, {'type': 'Float', 'name': 'SpreadBp'}, {'type': 'Float', 'name': 'PV01Bp'}, {'type': 'Float', 'name': 'PV01AmountInDealCcy'}, {'type': 'String', 'name': 'DiscountCurveName'}, {'type': 'String', 'name': 'ForwardCurveName'}, {'type': 'String', 'name': 'ErrorCode'}, {'type': 'String', 'name': 'ErrorMessage'}], 'data': [['BasisSwap-EURIBOR-3M6M-5Y', -23675.2699145186, -2.36752699145186, None, 0.0, -4.37098311176444, -437.098311176444, 'EUR - Swap vs 3M Euribor', 'EUR - Swap vs 3M Euribor', '', ''], ['BasisSwap-EURIBOR-3M6M-5Y', -19407.3851033223, -1.94073851033223, None, 5.0, -4.10867395769048, -410.867395769048, 'EUR - Swap vs 3M Euribor', 'EUR - Swap vs 6M Euribor', '', '']]}\n"
     ]
    }
   ],
   "source": [
    "request_body = {\n",
    "    \n",
    "    \"fields\" : [\"InstrumentTag\",\"MarketValueInDealCcy\",\"DirtyPricePercent\",\"FixedRatePercent\",\"SpreadBp\",\"PV01Bp\",\\\n",
    "                \"PV01AmountInDealCcy\",\"DiscountCurveName\",\"ForwardCurveName\",\"ErrorCode\",\"ErrorMessage\"],\n",
    "    \n",
    "    \"universe\" : [\n",
    "        {\n",
    "            \"instrumentType\":\"Swap\",\n",
    "            \"instrumentDefinition\": {\n",
    "                \"instrumentTag\":\"BasisSwap-EURIBOR-3M6M-5Y\",\n",
    "                \"startDate\":\"2020-01-28\",\n",
    "                \"tenor\":\"5Y\",\n",
    "                \"legs\":[\n",
    "                {\n",
    "                    \"direction\":\"Paid\",\n",
    "                    \"interestType\":\"Float\",\n",
    "                    \"interestPaymentFrequency\":\"Quarterly\",\n",
    "                    \"interestCalculationMethod\":\"Dcb_Actual_360\",\n",
    "                    \"notionalCcy\":\"EUR\",\n",
    "                    \"indexName\":\"EURIBOR\",\n",
    "                    \"indexTenor\":\"3M\",\n",
    "                    \"SpreadBp\":0.0\n",
    "                },\n",
    "                {\n",
    "                    \"direction\":\"Received\",\n",
    "                    \"interestType\":\"Float\",\n",
    "                    \"interestPaymentFrequency\":\"SemiAnnual\",\n",
    "                    \"interestCalculationMethod\":\"Dcb_Actual_360\",\n",
    "                    \"notionalCcy\":\"EUR\",\n",
    "                    \"indexName\":\"EURIBOR\",\n",
    "                    \"indexTenor\":\"6M\",\n",
    "                    \"SpreadBp\":5.0\n",
    "                }]\n",
    "            }\n",
    "        }],\n",
    "    \n",
    "    \"pricingParameters\": {\n",
    "        \"valuationDate\": \"2020-10-20T00:00:00Z\"\n",
    "    },\n",
    "        \n",
    "    \"outputs\" : [\"Data\",\"Headers\"],\n",
    "\n",
    "}\n",
    "\n",
    "response = endpoint.send_request(\n",
    "    method = rdp.Endpoint.RequestMethod.POST,\n",
    "    body_parameters = request_body)\n",
    "\n",
    "print(response.data.raw)"
   ]
  },
  {
   "cell_type": "code",
   "execution_count": 9,
   "metadata": {},
   "outputs": [
    {
     "data": {
      "text/html": [
       "<div>\n",
       "<style scoped>\n",
       "    .dataframe tbody tr th:only-of-type {\n",
       "        vertical-align: middle;\n",
       "    }\n",
       "\n",
       "    .dataframe tbody tr th {\n",
       "        vertical-align: top;\n",
       "    }\n",
       "\n",
       "    .dataframe thead th {\n",
       "        text-align: right;\n",
       "    }\n",
       "</style>\n",
       "<table border=\"1\" class=\"dataframe\">\n",
       "  <thead>\n",
       "    <tr style=\"text-align: right;\">\n",
       "      <th></th>\n",
       "      <th>InstrumentTag</th>\n",
       "      <th>MarketValueInDealCcy</th>\n",
       "      <th>DirtyPricePercent</th>\n",
       "      <th>FixedRatePercent</th>\n",
       "      <th>SpreadBp</th>\n",
       "      <th>PV01Bp</th>\n",
       "      <th>PV01AmountInDealCcy</th>\n",
       "      <th>DiscountCurveName</th>\n",
       "      <th>ForwardCurveName</th>\n",
       "      <th>ErrorCode</th>\n",
       "      <th>ErrorMessage</th>\n",
       "    </tr>\n",
       "  </thead>\n",
       "  <tbody>\n",
       "    <tr>\n",
       "      <th>0</th>\n",
       "      <td>BasisSwap-EURIBOR-3M6M-5Y</td>\n",
       "      <td>-23675.269915</td>\n",
       "      <td>-2.367527</td>\n",
       "      <td>None</td>\n",
       "      <td>0.0</td>\n",
       "      <td>-4.370983</td>\n",
       "      <td>-437.098311</td>\n",
       "      <td>EUR - Swap vs 3M Euribor</td>\n",
       "      <td>EUR - Swap vs 3M Euribor</td>\n",
       "      <td></td>\n",
       "      <td></td>\n",
       "    </tr>\n",
       "    <tr>\n",
       "      <th>1</th>\n",
       "      <td>BasisSwap-EURIBOR-3M6M-5Y</td>\n",
       "      <td>-19407.385103</td>\n",
       "      <td>-1.940739</td>\n",
       "      <td>None</td>\n",
       "      <td>5.0</td>\n",
       "      <td>-4.108674</td>\n",
       "      <td>-410.867396</td>\n",
       "      <td>EUR - Swap vs 3M Euribor</td>\n",
       "      <td>EUR - Swap vs 6M Euribor</td>\n",
       "      <td></td>\n",
       "      <td></td>\n",
       "    </tr>\n",
       "  </tbody>\n",
       "</table>\n",
       "</div>"
      ],
      "text/plain": [
       "               InstrumentTag  MarketValueInDealCcy  DirtyPricePercent  \\\n",
       "0  BasisSwap-EURIBOR-3M6M-5Y         -23675.269915          -2.367527   \n",
       "1  BasisSwap-EURIBOR-3M6M-5Y         -19407.385103          -1.940739   \n",
       "\n",
       "  FixedRatePercent  SpreadBp    PV01Bp  PV01AmountInDealCcy  \\\n",
       "0             None       0.0 -4.370983          -437.098311   \n",
       "1             None       5.0 -4.108674          -410.867396   \n",
       "\n",
       "          DiscountCurveName          ForwardCurveName ErrorCode ErrorMessage  \n",
       "0  EUR - Swap vs 3M Euribor  EUR - Swap vs 3M Euribor                         \n",
       "1  EUR - Swap vs 3M Euribor  EUR - Swap vs 6M Euribor                         "
      ]
     },
     "execution_count": 9,
     "metadata": {},
     "output_type": "execute_result"
    },
    {
     "name": "stdout",
     "output_type": "stream",
     "text": [
      "2021-01-11 17:51:18,115 - Session session.platform - Thread 23016 | MainThread\n",
      "[Error 400 - invalid_grant] empty error description\n"
     ]
    },
    {
     "name": "stderr",
     "output_type": "stream",
     "text": [
      "ERROR:session.platform:[Error 400 - invalid_grant] empty error description\n"
     ]
    }
   ],
   "source": [
    "import pandas as pd\n",
    "\n",
    "headers_name = [h['name'] for h in response.data.raw['headers']]\n",
    "df = pd.DataFrame(data=response.data.raw['data'], columns=headers_name)\n",
    "df"
   ]
  }
 ],
 "metadata": {
  "kernelspec": {
   "display_name": "Python 3",
   "language": "python",
   "name": "python3"
  },
  "language_info": {
   "codemirror_mode": {
    "name": "ipython",
    "version": 3
   },
   "file_extension": ".py",
   "mimetype": "text/x-python",
   "name": "python",
   "nbconvert_exporter": "python",
   "pygments_lexer": "ipython3",
   "version": "3.7.4"
  }
 },
 "nbformat": 4,
 "nbformat_minor": 4
}
