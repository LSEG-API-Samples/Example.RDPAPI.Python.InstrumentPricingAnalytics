{
 "cells": [
  {
   "cell_type": "markdown",
   "metadata": {},
   "source": [
    "# Refinitiv API Library Credentials"
   ]
  },
  {
   "cell_type": "code",
   "execution_count": 1,
   "metadata": {},
   "outputs": [],
   "source": [
    "#APP_KEY                     = 'THE_APPKEY_GENERATED_IN_APIDOCS'\n",
    "#RDP_LOGIN                   = 'THE_LOGIN_RECEIVED_IN_WELCOME_EMAIL'\n",
    "#RDP_PASSWORD                = 'THE_PASSWORD_YOU_RESET'\n",
    "DEPLOYED_PLATFORM_HOST      = 'THE_IP_OF_YOUR_DEPLOYED_PLATFORM'         # a.k.a ADS or TREP\n",
    "DEPLOYED_PLATFORM_USER_NAME = 'YOUR_USER_NAME_ON_YOUR_DEPLOYED_PLATFORM' # a.k.a DACS user name "
   ]
  }
 ],
 "metadata": {
  "kernelspec": {
   "display_name": "Python 3",
   "language": "python",
   "name": "python3"
  },
  "language_info": {
   "codemirror_mode": {
    "name": "ipython",
    "version": 3
   },
   "file_extension": ".py",
   "mimetype": "text/x-python",
   "name": "python",
   "nbconvert_exporter": "python",
   "pygments_lexer": "ipython3",
   "version": "3.7.4"
  }
 },
 "nbformat": 4,
 "nbformat_minor": 4
}
