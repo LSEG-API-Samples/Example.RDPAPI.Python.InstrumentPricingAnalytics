{
 "cells": [
  {
   "cell_type": "markdown",
   "metadata": {},
   "source": [
    "# Zc-curve definitions Samples\n",
    "\n",
    "This notebook demonstrates how to access and use the zc-curve-definitions end point of Instrument Pricing Analytics (IPA) in the Refinitiv Data Platform.\n",
    "\n",
    "##### Learn more\n",
    "\n",
    "Please visit the [Refinitiv Developer Community Portal](https://developers.refinitiv.com/en/api-catalog/refinitiv-data-platform/refinitiv-data-platform-apis/documentation#ipa-financial-contracts-ir-swap-contracts) to access the API documentation and much more.\n",
    "\n",
    "You may also visit the [API Playground](https://apidocs.refinitiv.com/Apps/ApiDocs) to get more examples, find  end points and download Swagger files\n",
    "\n",
    "##### Getting Help and Support\n",
    "\n",
    "If you have any questions regarding the API usage, please post them on the [Refinitiv Data Platform Q&A Forum](https://community.developers.refinitiv.com/spaces/231/index.html). The Refinitiv Developer Community will be very pleased to help you. "
   ]
  },
  {
   "cell_type": "markdown",
   "metadata": {},
   "source": [
    "#### Import the library and connect to the Refinitv Data Platform\n",
    "\n",
    "This sample works in both desktop and non-desktop environment. The appropriate session can be created based on the constant variable IPA_ENVIRONMENT, that is set by default to DESKTOP for execution in the Refinitiv codebook application. To run this sample in a non-desktop environment, you may set the variable to NON-DESKTOP."
   ]
  },
  {
   "cell_type": "code",
   "execution_count": 3,
   "metadata": {},
   "outputs": [
    {
     "name": "stdout",
     "output_type": "stream",
     "text": [
      "session opened and end-point set\n"
     ]
    }
   ],
   "source": [
    "import refinitiv.dataplatform as rdp\n",
    "\n",
    "# Set IPA_ENVIRONMENT to NON-DESKTOP to use this example in a non desktop environment\n",
    "# IPA_ENVIRONMENT = \"NON-DESKTOP\"\n",
    "IPA_ENVIRONMENT = \"DESKTOP\"\n",
    "\n",
    "if (IPA_ENVIRONMENT == \"DESKTOP\"):\n",
    "    session = rdp.DesktopSession(app_key='DEFAULT_CODE_BOOK_APP_KEY')\n",
    "else:\n",
    "    %run \".\\..\\..\\credentials.ipynb\"\n",
    "    session = rdp.PlatformSession(APP_KEY, rdp.GrantPassword(RDP_LOGIN, RDP_PASSWORD))\n",
    "\n",
    "session.open()\n",
    "endpoint = rdp.Endpoint(session, \"https://api.refinitiv.com/data/quantitative-analytics-curves-and-surfaces/v1/curves/zc-curve-definitions\")\n",
    "print(\"session opened and end-point set\")"
   ]
  },
  {
   "cell_type": "code",
   "execution_count": 5,
   "metadata": {},
   "outputs": [
    {
     "name": "stdout",
     "output_type": "stream",
     "text": [
      "{'data': [{'curveTag': 'Tag0', 'curveDefinitions': [{'currency': 'USD', 'mainConstituentAssetClass': 'Swap', 'riskType': 'InterestRate', 'indexName': 'LIBOR', 'source': 'Refinitiv', 'name': 'USD LIBOR Swap ZC Curve', 'firstHistoricalAvailabilityDate': '2014-09-25', 'id': '1ef0692f-1cde-4b71-bad7-e39198633e0e', 'availableTenors': ['6M', 'OIS', '3M', '1M'], 'availableDiscountingTenors': ['6M', 'OIS', '3M', '1M']}, {'currency': 'USD', 'mainConstituentAssetClass': 'Futures', 'riskType': 'InterestRate', 'indexName': 'LIBOR', 'source': 'Refinitiv', 'name': 'USD EURODOLLAR Futures Curve', 'firstHistoricalAvailabilityDate': '2014-09-25', 'id': '0e304ce8-dcbf-44cd-a1fe-d36c1b4eb3a6', 'availableTenors': ['3M'], 'availableDiscountingTenors': ['3M']}, {'currency': 'USD', 'mainConstituentAssetClass': 'Swap', 'riskType': 'InterestRate', 'indexName': 'SOFR', 'source': 'Refinitiv', 'name': 'USD SOFR Swap ZC Curve', 'firstHistoricalAvailabilityDate': '2020-06-17', 'id': '34d8c1f9-8fd1-4ca3-bb37-5464c41de2f7', 'availableTenors': ['OIS', '3M'], 'availableDiscountingTenors': ['OIS']}]}]}\n"
     ]
    }
   ],
   "source": [
    "request_body={\n",
    "  \"universe\": [\n",
    "    {\n",
    "        \"currency\":\"USD\"\n",
    "    }\n",
    "  ]\n",
    "}\n",
    "\n",
    "response = endpoint.send_request(\n",
    "    method = rdp.Endpoint.RequestMethod.POST,\n",
    "    body_parameters = request_body\n",
    ")\n",
    "\n",
    "print(response.data.raw)"
   ]
  },
  {
   "cell_type": "code",
   "execution_count": 6,
   "metadata": {},
   "outputs": [
    {
     "data": {
      "text/html": [
       "<div>\n",
       "<style scoped>\n",
       "    .dataframe tbody tr th:only-of-type {\n",
       "        vertical-align: middle;\n",
       "    }\n",
       "\n",
       "    .dataframe tbody tr th {\n",
       "        vertical-align: top;\n",
       "    }\n",
       "\n",
       "    .dataframe thead th {\n",
       "        text-align: right;\n",
       "    }\n",
       "</style>\n",
       "<table border=\"1\" class=\"dataframe\">\n",
       "  <thead>\n",
       "    <tr style=\"text-align: right;\">\n",
       "      <th></th>\n",
       "      <th>currency</th>\n",
       "      <th>mainConstituentAssetClass</th>\n",
       "      <th>riskType</th>\n",
       "      <th>indexName</th>\n",
       "      <th>source</th>\n",
       "      <th>name</th>\n",
       "      <th>firstHistoricalAvailabilityDate</th>\n",
       "      <th>id</th>\n",
       "      <th>availableTenors</th>\n",
       "      <th>availableDiscountingTenors</th>\n",
       "    </tr>\n",
       "  </thead>\n",
       "  <tbody>\n",
       "    <tr>\n",
       "      <th>0</th>\n",
       "      <td>USD</td>\n",
       "      <td>Swap</td>\n",
       "      <td>InterestRate</td>\n",
       "      <td>LIBOR</td>\n",
       "      <td>Refinitiv</td>\n",
       "      <td>USD LIBOR Swap ZC Curve</td>\n",
       "      <td>2014-09-25</td>\n",
       "      <td>1ef0692f-1cde-4b71-bad7-e39198633e0e</td>\n",
       "      <td>[6M, OIS, 3M, 1M]</td>\n",
       "      <td>[6M, OIS, 3M, 1M]</td>\n",
       "    </tr>\n",
       "    <tr>\n",
       "      <th>1</th>\n",
       "      <td>USD</td>\n",
       "      <td>Futures</td>\n",
       "      <td>InterestRate</td>\n",
       "      <td>LIBOR</td>\n",
       "      <td>Refinitiv</td>\n",
       "      <td>USD EURODOLLAR Futures Curve</td>\n",
       "      <td>2014-09-25</td>\n",
       "      <td>0e304ce8-dcbf-44cd-a1fe-d36c1b4eb3a6</td>\n",
       "      <td>[3M]</td>\n",
       "      <td>[3M]</td>\n",
       "    </tr>\n",
       "    <tr>\n",
       "      <th>2</th>\n",
       "      <td>USD</td>\n",
       "      <td>Swap</td>\n",
       "      <td>InterestRate</td>\n",
       "      <td>SOFR</td>\n",
       "      <td>Refinitiv</td>\n",
       "      <td>USD SOFR Swap ZC Curve</td>\n",
       "      <td>2020-06-17</td>\n",
       "      <td>34d8c1f9-8fd1-4ca3-bb37-5464c41de2f7</td>\n",
       "      <td>[OIS, 3M]</td>\n",
       "      <td>[OIS]</td>\n",
       "    </tr>\n",
       "  </tbody>\n",
       "</table>\n",
       "</div>"
      ],
      "text/plain": [
       "  currency mainConstituentAssetClass      riskType indexName     source  \\\n",
       "0      USD                      Swap  InterestRate     LIBOR  Refinitiv   \n",
       "1      USD                   Futures  InterestRate     LIBOR  Refinitiv   \n",
       "2      USD                      Swap  InterestRate      SOFR  Refinitiv   \n",
       "\n",
       "                           name firstHistoricalAvailabilityDate  \\\n",
       "0       USD LIBOR Swap ZC Curve                      2014-09-25   \n",
       "1  USD EURODOLLAR Futures Curve                      2014-09-25   \n",
       "2        USD SOFR Swap ZC Curve                      2020-06-17   \n",
       "\n",
       "                                     id    availableTenors  \\\n",
       "0  1ef0692f-1cde-4b71-bad7-e39198633e0e  [6M, OIS, 3M, 1M]   \n",
       "1  0e304ce8-dcbf-44cd-a1fe-d36c1b4eb3a6               [3M]   \n",
       "2  34d8c1f9-8fd1-4ca3-bb37-5464c41de2f7          [OIS, 3M]   \n",
       "\n",
       "  availableDiscountingTenors  \n",
       "0          [6M, OIS, 3M, 1M]  \n",
       "1                       [3M]  \n",
       "2                      [OIS]  "
      ]
     },
     "execution_count": 6,
     "metadata": {},
     "output_type": "execute_result"
    }
   ],
   "source": [
    "import pandas as pd\n",
    "\n",
    "df = pd.DataFrame(data=response.data.raw[\"data\"][0][\"curveDefinitions\"])\n",
    "df"
   ]
  }
 ],
 "metadata": {
  "kernelspec": {
   "display_name": "Python 3",
   "language": "python",
   "name": "python3"
  },
  "language_info": {
   "codemirror_mode": {
    "name": "ipython",
    "version": 3
   },
   "file_extension": ".py",
   "mimetype": "text/x-python",
   "name": "python",
   "nbconvert_exporter": "python",
   "pygments_lexer": "ipython3",
   "version": "3.7.4"
  }
 },
 "nbformat": 4,
 "nbformat_minor": 4
}
