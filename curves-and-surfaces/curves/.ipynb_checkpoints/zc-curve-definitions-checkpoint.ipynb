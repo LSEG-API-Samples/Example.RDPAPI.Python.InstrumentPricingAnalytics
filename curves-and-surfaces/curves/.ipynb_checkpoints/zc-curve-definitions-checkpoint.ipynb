{
 "cells": [
  {
   "cell_type": "markdown",
   "metadata": {},
   "source": [
    "# Zc-Curve definitions Samples\n",
    "\n",
    "This notebook demonstrates how to access and use the zc-curve-definitions end point of Instrument Pricing Analytics (IPA) in the Refinitiv Data Platform.\n",
    "\n",
    "##### Learn more\n",
    "\n",
    "Please visit the [Refinitiv Developer Community Portal](https://developers.refinitiv.com/en/api-catalog/refinitiv-data-platform/refinitiv-data-platform-apis/documentation#ipa-financial-contracts-ir-swap-contracts) to access the API documentation and much more.\n",
    "\n",
    "You may also visit the [API Playground](https://apidocs.refinitiv.com/Apps/ApiDocs) to get more examples, find  end points and download Swagger files\n",
    "\n",
    "##### Getting Help and Support\n",
    "\n",
    "If you have any questions regarding the API usage, please post them on the [Refinitiv Data Platform Q&A Forum](https://community.developers.refinitiv.com/spaces/231/index.html). The Refinitiv Developer Community will be very pleased to help you. "
   ]
  },
  {
   "cell_type": "markdown",
   "metadata": {},
   "source": [
    "#### Import the library and connect to the Refinitv Data Platform\n",
    "\n",
    "This sample works in both desktop and non-desktop environment. The appropriate session can be created based on the constant variable IPA_ENVIRONMENT, that is set by default to DESKTOP for execution in the Refinitiv codebook application. To run this sample in a non-desktop environment, you may set the variable to NON-DESKTOP."
   ]
  },
  {
   "cell_type": "code",
   "execution_count": 9,
   "metadata": {},
   "outputs": [
    {
     "name": "stdout",
     "output_type": "stream",
     "text": [
      "session opened and end-point set\n"
     ]
    }
   ],
   "source": [
    "import refinitiv.dataplatform as rdp\n",
    "\n",
    "# Set IPA_ENVIRONMENT to NON-DESKTOP to use this example in a non desktop environment\n",
    "# IPA_ENVIRONMENT = \"NON-DESKTOP\"\n",
    "IPA_ENVIRONMENT = \"DESKTOP\"\n",
    "\n",
    "if (IPA_ENVIRONMENT == \"DESKTOP\"):\n",
    "    session = rdp.DesktopSession(app_key='DEFAULT_CODE_BOOK_APP_KEY')\n",
    "else:\n",
    "    %run \".\\..\\..\\credentials.ipynb\"\n",
    "    session = rdp.PlatformSession(APP_KEY, rdp.GrantPassword(RDP_LOGIN, RDP_PASSWORD))\n",
    "\n",
    "session.open()\n",
    "endpoint = rdp.Endpoint(session, \"https://api.refinitiv.com/data/quantitative-analytics-curves-and-surfaces/v1/curves/zc-curve-definitions\")\n",
    "print(\"session opened and end-point set\")"
   ]
  },
  {
   "cell_type": "code",
   "execution_count": 10,
   "metadata": {},
   "outputs": [
    {
     "name": "stdout",
     "output_type": "stream",
     "text": [
      "{'data': [{'curveTag': 'Tag0', 'curveDefinitions': [{'currency': 'EUR', 'mainConstituentAssetClass': 'Swap', 'riskType': 'InterestRate', 'indexName': 'EURIBOR', 'source': 'Refinitiv', 'name': 'EUR EURIBOR Swap ZC Curve', 'firstHistoricalAvailabilityDate': '2008-07-14', 'id': '9d619112-9ab3-45c9-b83c-eb04cbec382e', 'availableTenors': ['6M', '1Y', 'OIS', '3M', '1M'], 'availableDiscountingTenors': ['6M', '1Y', 'OIS', '3M', '1M']}]}]}\n"
     ]
    }
   ],
   "source": [
    "request_body={\n",
    "  \"universe\": [\n",
    "    {\n",
    "        \"currency\":\"EUR\"\n",
    "    }\n",
    "  ]\n",
    "}\n",
    "\n",
    "response = endpoint.send_request(\n",
    "    method = rdp.Endpoint.RequestMethod.POST,\n",
    "    body_parameters = request_body\n",
    ")\n",
    "\n",
    "print(response.data.raw)"
   ]
  },
  {
   "cell_type": "code",
   "execution_count": 11,
   "metadata": {},
   "outputs": [
    {
     "data": {
      "text/html": [
       "<div>\n",
       "<style scoped>\n",
       "    .dataframe tbody tr th:only-of-type {\n",
       "        vertical-align: middle;\n",
       "    }\n",
       "\n",
       "    .dataframe tbody tr th {\n",
       "        vertical-align: top;\n",
       "    }\n",
       "\n",
       "    .dataframe thead th {\n",
       "        text-align: right;\n",
       "    }\n",
       "</style>\n",
       "<table border=\"1\" class=\"dataframe\">\n",
       "  <thead>\n",
       "    <tr style=\"text-align: right;\">\n",
       "      <th></th>\n",
       "      <th>currency</th>\n",
       "      <th>mainConstituentAssetClass</th>\n",
       "      <th>riskType</th>\n",
       "      <th>indexName</th>\n",
       "      <th>source</th>\n",
       "      <th>name</th>\n",
       "      <th>firstHistoricalAvailabilityDate</th>\n",
       "      <th>id</th>\n",
       "      <th>availableTenors</th>\n",
       "      <th>availableDiscountingTenors</th>\n",
       "    </tr>\n",
       "  </thead>\n",
       "  <tbody>\n",
       "    <tr>\n",
       "      <th>0</th>\n",
       "      <td>EUR</td>\n",
       "      <td>Swap</td>\n",
       "      <td>InterestRate</td>\n",
       "      <td>EURIBOR</td>\n",
       "      <td>Refinitiv</td>\n",
       "      <td>EUR EURIBOR Swap ZC Curve</td>\n",
       "      <td>2008-07-14</td>\n",
       "      <td>9d619112-9ab3-45c9-b83c-eb04cbec382e</td>\n",
       "      <td>[6M, 1Y, OIS, 3M, 1M]</td>\n",
       "      <td>[6M, 1Y, OIS, 3M, 1M]</td>\n",
       "    </tr>\n",
       "  </tbody>\n",
       "</table>\n",
       "</div>"
      ],
      "text/plain": [
       "  currency mainConstituentAssetClass      riskType indexName     source  \\\n",
       "0      EUR                      Swap  InterestRate   EURIBOR  Refinitiv   \n",
       "\n",
       "                        name firstHistoricalAvailabilityDate  \\\n",
       "0  EUR EURIBOR Swap ZC Curve                      2008-07-14   \n",
       "\n",
       "                                     id        availableTenors  \\\n",
       "0  9d619112-9ab3-45c9-b83c-eb04cbec382e  [6M, 1Y, OIS, 3M, 1M]   \n",
       "\n",
       "  availableDiscountingTenors  \n",
       "0      [6M, 1Y, OIS, 3M, 1M]  "
      ]
     },
     "execution_count": 11,
     "metadata": {},
     "output_type": "execute_result"
    }
   ],
   "source": [
    "import pandas as pd\n",
    "\n",
    "df = pd.DataFrame(data=response.data.raw[\"data\"][0][\"curveDefinitions\"])\n",
    "df"
   ]
  }
 ],
 "metadata": {
  "kernelspec": {
   "display_name": "Python 3",
   "language": "python",
   "name": "python3"
  },
  "language_info": {
   "codemirror_mode": {
    "name": "ipython",
    "version": 3
   },
   "file_extension": ".py",
   "mimetype": "text/x-python",
   "name": "python",
   "nbconvert_exporter": "python",
   "pygments_lexer": "ipython3",
   "version": "3.7.4"
  }
 },
 "nbformat": 4,
 "nbformat_minor": 4
}
