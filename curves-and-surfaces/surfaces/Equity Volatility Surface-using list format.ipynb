{
 "cells": [
  {
   "cell_type": "markdown",
   "metadata": {},
   "source": [
    "# Equity volatility surfaces samples\n",
    "\n",
    "This notebook demonstrates how to access and use the surfaces end point of Instrument Pricing Analytics (IPA) in the Refinitiv Data Platform.\n",
    "\n",
    "##### Learn more\n",
    "\n",
    "Please visit the [Refinitiv Developer Community Portal](https://developers.refinitiv.com/en/api-catalog/refinitiv-data-platform/refinitiv-data-platform-apis/documentation#ipa-volatility-surfaces-eti) to access the API documentation and much more.\n",
    "\n",
    "You may also visit the [API Playground](https://apidocs.refinitiv.com/Apps/ApiDocs) to get more examples, find  end points and download Swagger files\n",
    "\n",
    "##### Getting Help and Support\n",
    "\n",
    "If you have any questions regarding the API usage, please post them on the [Refinitiv Data Platform Q&A Forum](https://community.developers.refinitiv.com/spaces/231/index.html). The Refinitiv Developer Community will be very pleased to help you. "
   ]
  },
  {
   "cell_type": "markdown",
   "metadata": {},
   "source": [
    "#### Import the library and connect to the Refinitv Data Platform\n",
    "\n",
    "This sample works in both desktop and non-desktop environment. The appropriate session can be created based on the constant variable IPA_ENVIRONMENT, that is set by default to DESKTOP for execution in the Refinitiv codebook application. To run this sample in a non-desktop environment, you may set the variable to NON-DESKTOP."
   ]
  },
  {
   "cell_type": "code",
   "execution_count": 1,
   "metadata": {},
   "outputs": [
    {
     "name": "stdout",
     "output_type": "stream",
     "text": [
      "session opened and end-point set\n"
     ]
    }
   ],
   "source": [
    "import refinitiv.dataplatform as rdp\n",
    "\n",
    "# Set IPA_ENVIRONMENT to NON-DESKTOP to use this example in a non desktop environment\n",
    "#IPA_ENVIRONMENT = \"NON-DESKTOP\"\n",
    "IPA_ENVIRONMENT = \"DESKTOP\"\n",
    "\n",
    "if (IPA_ENVIRONMENT == \"DESKTOP\"):\n",
    "    session = rdp.DesktopSession(app_key='DEFAULT_CODE_BOOK_APP_KEY')\n",
    "else:\n",
    "    %run \".\\..\\..\\credentials.ipynb\"\n",
    "    session = rdp.PlatformSession(APP_KEY, rdp.GrantPassword(RDP_LOGIN, RDP_PASSWORD))\n",
    "\n",
    "session.open()\n",
    "endpoint = rdp.Endpoint(session, \"https://api.refinitiv.com/data/quantitative-analytics-curves-and-surfaces/v1/surfaces\")\n",
    "print(\"session opened and end-point set\")"
   ]
  },
  {
   "cell_type": "markdown",
   "metadata": {},
   "source": [
    "### Generating a surface for an underlying equity using a list format as ouput\n",
    "\n",
    "this sample compute on-demand the voaltility surface for BNP Paribas (BNPP.PA). the surfaceParameters are defined in order to retrieve and intraday surface (\"timeStamp\":\"Default\") uysing Mid option prices (\"priceSide\":\"Mid\") in tenor (\"xAxis\": \"Tenor\") and moneyness (\"yAxis\": \"Moneyness\"). the smiles for each tenor of the surface are fitted separately (\"volatilityModel\": \"SVI\").\n",
    "\n",
    "the response will contain the surface as a list of points (\"format\": \"List\"). Each point is defined by it coordinates provided as per the xAxis and yAxis definition (Tenor / Maturity, Strike / Moneyness).\n",
    "\n",
    "\n"
   ]
  },
  {
   "cell_type": "code",
   "execution_count": 2,
   "metadata": {
    "scrolled": true
   },
   "outputs": [
    {
     "name": "stdout",
     "output_type": "stream",
     "text": [
      "{\n",
      "  \"data\": [\n",
      "    {\n",
      "      \"surfaceTag\": \"BNP Paribas\",\n",
      "      \"headers\": [\n",
      "        \"tenor\",\n",
      "        \"moneyness\",\n",
      "        \"volatility\"\n",
      "      ],\n",
      "      \"surface\": [\n",
      "        [\n",
      "          \"1M\",\n",
      "          \"1\",\n",
      "          35.0269383697073\n",
      "        ],\n",
      "        [\n",
      "          \"2M\",\n",
      "          \"1\",\n",
      "          34.7203707483909\n",
      "        ]\n",
      "      ],\n",
      "      \"forwardCurve\": {\n",
      "        \"curveStructure\": \"\",\n",
      "        \"dataPoints\": {\n",
      "          \"2021-02-22\": 43.06627527780498,\n",
      "          \"2021-03-22\": 43.04802825654762\n",
      "        }\n",
      "      }\n",
      "    }\n",
      "  ]\n",
      "}\n",
      "2021-03-26 14:46:55,623 - Session session.platform - Thread 24632 | MainThread\n",
      "[Error 400 - invalid_grant] empty error description\n"
     ]
    }
   ],
   "source": [
    "import requests\n",
    "import json\n",
    "import pandas as pd\n",
    "\n",
    "request_body={\n",
    "    \"universe\": [\n",
    "        {\n",
    "            \"surfaceTag\": \"BNP Paribas\",\n",
    "            \"underlyingType\": \"Eti\",\n",
    "            \"underlyingDefinition\": {\n",
    "                \"instrumentCode\": \"BNPP.PA@RIC\"\n",
    "            },\n",
    "            \"surfaceParameters\": {\n",
    "                \"inputVolatilityType\":\"Quoted\",\n",
    "                \"timeStamp\":\"Default\",\n",
    "                \"priceSide\":\"Mid\",\n",
    "                \"volatilityModel\": \"SVI\",\n",
    "                \"xAxis\": \"Tenor\",\n",
    "                \"yAxis\": \"Moneyness\",\n",
    "                \"calculationDate\":\"2021-01-22\"\n",
    "            },\n",
    "            \"surfaceLayout\": {\n",
    "                \"format\": \"List\",\n",
    "                \"dataPoints\":[\n",
    "                    {\n",
    "                        \"x\":\"1M\",\n",
    "                        \"y\":\"1\"   \n",
    "                    },\n",
    "                    {\n",
    "                        \"x\":\"2M\",\n",
    "                        \"y\":\"1\"   \n",
    "                    }]\n",
    "            }\n",
    "        }],\n",
    "    \n",
    "\n",
    "    \"outputs\":[\"Data\",\"ForwardCurve\",\"MoneynessStrike\"]\n",
    "\n",
    "}\n",
    "\n",
    "response = endpoint.send_request(\n",
    "    method = rdp.Endpoint.RequestMethod.POST,\n",
    "    body_parameters = request_body\n",
    ")\n",
    "\n",
    "print(json.dumps(response.data.raw, indent=2))\n"
   ]
  },
  {
   "cell_type": "code",
   "execution_count": null,
   "metadata": {},
   "outputs": [],
   "source": []
  }
 ],
 "metadata": {
  "kernelspec": {
   "display_name": "Python 3",
   "language": "python",
   "name": "python3"
  },
  "language_info": {
   "codemirror_mode": {
    "name": "ipython",
    "version": 3
   },
   "file_extension": ".py",
   "mimetype": "text/x-python",
   "name": "python",
   "nbconvert_exporter": "python",
   "pygments_lexer": "ipython3",
   "version": "3.7.4"
  }
 },
 "nbformat": 4,
 "nbformat_minor": 4
}
