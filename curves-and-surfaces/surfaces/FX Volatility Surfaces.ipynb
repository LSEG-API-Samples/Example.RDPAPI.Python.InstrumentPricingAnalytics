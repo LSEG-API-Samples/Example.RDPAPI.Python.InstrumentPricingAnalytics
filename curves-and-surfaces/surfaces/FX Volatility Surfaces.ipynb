{
 "cells": [
  {
   "cell_type": "markdown",
   "metadata": {},
   "source": [
    "# FX Volatility surfaces Samples\n",
    "\n",
    "This notebook demonstrates how to access and use the surfaces end point of Instrument Pricing Analytics (IPA) in the Refinitiv Data Platform.\n",
    "\n",
    "##### Learn more\n",
    "\n",
    "Please visit the [Refinitiv Developer Community Portal](https://developers.refinitiv.com/en/api-catalog/refinitiv-data-platform/refinitiv-data-platform-apis/documentation#ipa-volatility-surfaces-fx) to access the API documentation and much more.\n",
    "\n",
    "You may also visit the [API Playground](https://apidocs.refinitiv.com/Apps/ApiDocs) to get more examples, find  end points and download Swagger files\n",
    "\n",
    "##### Getting Help and Support\n",
    "\n",
    "If you have any questions regarding the API usage, please post them on the [Refinitiv Data Platform Q&A Forum](https://community.developers.refinitiv.com/spaces/231/index.html). The Refinitiv Developer Community will be very pleased to help you. "
   ]
  },
  {
   "cell_type": "code",
   "execution_count": 3,
   "metadata": {},
   "outputs": [
    {
     "name": "stdout",
     "output_type": "stream",
     "text": [
      "session opened and end-point set\n"
     ]
    }
   ],
   "source": [
    "import refinitiv.dataplatform as rdp\n",
    "\n",
    "# Set IPA_ENVIRONMENT to NON-DESKTOP to use this example in a non desktop environment\n",
    "#IPA_ENVIRONMENT = \"NON-DESKTOP\"\n",
    "IPA_ENVIRONMENT = \"DESKTOP\"\n",
    "\n",
    "if (IPA_ENVIRONMENT == \"DESKTOP\"):\n",
    "    session = rdp.DesktopSession(app_key='DEFAULT_CODE_BOOK_APP_KEY')\n",
    "else:\n",
    "    %run \".\\..\\..\\credentials.ipynb\"\n",
    "    session = rdp.PlatformSession(APP_KEY, rdp.GrantPassword(RDP_LOGIN, RDP_PASSWORD))\n",
    "\n",
    "session.open()\n",
    "endpoint = rdp.Endpoint(session, \"https://api.refinitiv.com/data/quantitative-analytics-curves-and-surfaces/v1/surfaces\")\n",
    "print(\"session opened and end-point set\")"
   ]
  },
  {
   "cell_type": "code",
   "execution_count": 5,
   "metadata": {},
   "outputs": [
    {
     "name": "stdout",
     "output_type": "stream",
     "text": [
      "{'data': [{'surfaceTag': 'EUR/DKK', 'surface': [[None, -0.1, -0.15, -0.2, -0.25, -0.3, -0.35, -0.4, -0.45, 'ATM', 0.45, 0.4, 0.35, 0.3, 0.25, 0.2, 0.15, 0.1], ['3M', 2.130132241132844, 1.736470297121866, 1.4319415807006213, 1.1848501917321193, 0.986741491912835, 0.8382323176153551, 0.7381269822910438, 0.6786275175409261, 0.6500000000001118, 0.6466913843540256, 0.6663013154260261, 0.7098494804656683, 0.7808328396883237, 0.8836183492413675, 1.0229228222506315, 1.206623851172971, 1.4553444258450168], ['6M', 2.7441773126390077, 2.2333552585418643, 1.8365326890294236, 1.5133928022634104, 1.255970976544858, 1.070997833667547, 0.959863348387966, 0.9085337472905146, 0.9000000000004227, 0.9245649632602904, 0.9759539227271506, 1.052637018957941, 1.1551491286819469, 1.2859785447967165, 1.450588740258766, 1.6606124413369672, 1.9435235101374977], ['9M', 2.993914362963622, 2.4527035590458124, 2.033939938162224, 1.6922295609158726, 1.4130652025842405, 1.194902662494972, 1.0376359328856515, 0.934850161325697, 0.8744723986086984, 0.8516938675068265, 0.863110267112235, 0.9096951813082457, 0.9987892448757313, 1.1396452031316304, 1.3396308668912476, 1.6072512990652081, 1.9684506664290533], ['1Y', 3.252395364882369, 2.673491624927412, 2.2251242693305056, 1.8575099609975898, 1.5536510294294268, 1.3114580084384304, 1.1333776079829863, 1.0165591467763258, 0.9499999999994598, 0.9275990047379359, 0.9440881237036921, 0.9977051189481405, 1.091573613095073, 1.2300716027962355, 1.4183572824260944, 1.666579863315463, 2.002791166194177], ['2Y', 3.566249981661887, 2.983187457924569, 2.5380719507200675, 2.177893772946245, 1.8813621895234616, 1.6397370147582375, 1.4491873496054086, 1.306504368768987, 1.2000000000000712, 1.1392940612308413, 1.126799361575595, 1.1588890594372678, 1.2460798704190543, 1.4028122976800137, 1.6403368287345215, 1.967687211530353, 2.413928931448713]]}]}\n"
     ]
    }
   ],
   "source": [
    "import requests\n",
    "import json\n",
    "import pandas as pd\n",
    "\n",
    "request_body={\n",
    "    \"universe\": [\n",
    "        {\n",
    "            \"surfaceTag\": \"EUR/DKK\",\n",
    "            \"underlyingType\": \"Fx\",\n",
    "            \"underlyingDefinition\": {\n",
    "                \"fxCrossCode\": \"EURDKK\"\n",
    "            },\n",
    "            \"surfaceParameters\": {\n",
    "                \"volatilityModel\": \"SVI\",\n",
    "                \"xAxis\": \"Tenor\",\n",
    "                \"yAxis\": \"Delta\",\n",
    "                \"valuationDate\":\"2020-10-15\"\n",
    "            },\n",
    "            \"surfaceLayout\": {\n",
    "                \"format\": \"Matrix\",\n",
    "            }\n",
    "        }],\n",
    "    \n",
    "    \"outputs\":[\"Data\"]\n",
    "    \n",
    "}\n",
    "\n",
    "response = endpoint.send_request(\n",
    "    method = rdp.Endpoint.RequestMethod.POST,\n",
    "    body_parameters = request_body\n",
    ")\n",
    "\n",
    "print(response.data.raw)"
   ]
  }
 ],
 "metadata": {
  "kernelspec": {
   "display_name": "Python 3",
   "language": "python",
   "name": "python3"
  },
  "language_info": {
   "codemirror_mode": {
    "name": "ipython",
    "version": 3
   },
   "file_extension": ".py",
   "mimetype": "text/x-python",
   "name": "python",
   "nbconvert_exporter": "python",
   "pygments_lexer": "ipython3",
   "version": "3.7.4"
  }
 },
 "nbformat": 4,
 "nbformat_minor": 4
}
